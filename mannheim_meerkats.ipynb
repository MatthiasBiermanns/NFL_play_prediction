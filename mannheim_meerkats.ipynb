{
 "cells": [
  {
   "cell_type": "code",
   "execution_count": 61,
   "metadata": {},
   "outputs": [],
   "source": [
    "import pandas as pd"
   ]
  },
  {
   "cell_type": "code",
   "execution_count": 62,
   "metadata": {},
   "outputs": [],
   "source": [
    "years = list(range(1999, 2024))"
   ]
  },
  {
   "cell_type": "code",
   "execution_count": 63,
   "metadata": {},
   "outputs": [],
   "source": [
    "csv_files = [f\"./Data/play_by_play_{year}.csv\" for year in years]"
   ]
  },
  {
   "cell_type": "code",
   "execution_count": 64,
   "metadata": {},
   "outputs": [
    {
     "name": "stderr",
     "output_type": "stream",
     "text": [
      "C:\\Users\\Tim\\AppData\\Local\\Temp\\ipykernel_4604\\2200896479.py:4: DtypeWarning: Columns (36,37,179,180,189,190,197,198,203,204,205,206,213,214,218,219,220,222,224,226,248,249,253,254,255,260,262,263,266,267,268,269,283,284) have mixed types. Specify dtype option on import or set low_memory=False.\n",
      "  df = pd.read_csv(csv_file)\n",
      "C:\\Users\\Tim\\AppData\\Local\\Temp\\ipykernel_4604\\2200896479.py:4: DtypeWarning: Columns (37,45,179,180,182,183,189,190,193,194,197,198,203,204,205,206,218,219,220,248,249,253,254,255,260,262,263,283,284) have mixed types. Specify dtype option on import or set low_memory=False.\n",
      "  df = pd.read_csv(csv_file)\n",
      "C:\\Users\\Tim\\AppData\\Local\\Temp\\ipykernel_4604\\2200896479.py:4: DtypeWarning: Columns (37,179,180,182,183,189,190,193,194,197,198,203,204,205,206,209,210,213,214,218,219,220,248,249,253,254,255,260,262,263,266,267,268,269,283,284,301) have mixed types. Specify dtype option on import or set low_memory=False.\n",
      "  df = pd.read_csv(csv_file)\n",
      "C:\\Users\\Tim\\AppData\\Local\\Temp\\ipykernel_4604\\2200896479.py:4: DtypeWarning: Columns (37,45,179,180,182,183,189,190,193,194,197,198,203,204,205,206,209,210,218,219,220,248,249,253,254,255,260,262,263,283,284,301) have mixed types. Specify dtype option on import or set low_memory=False.\n",
      "  df = pd.read_csv(csv_file)\n",
      "C:\\Users\\Tim\\AppData\\Local\\Temp\\ipykernel_4604\\2200896479.py:4: DtypeWarning: Columns (37,45,179,180,189,190,193,194,197,198,203,204,205,206,218,219,220,248,249,253,254,255,260,262,263,283,284,301) have mixed types. Specify dtype option on import or set low_memory=False.\n",
      "  df = pd.read_csv(csv_file)\n",
      "C:\\Users\\Tim\\AppData\\Local\\Temp\\ipykernel_4604\\2200896479.py:4: DtypeWarning: Columns (37,45,179,180,189,190,193,194,197,198,203,204,205,206,209,210,213,214,218,219,220,248,249,253,254,255,260,262,263,266,267,268,269,283,284,301) have mixed types. Specify dtype option on import or set low_memory=False.\n",
      "  df = pd.read_csv(csv_file)\n",
      "C:\\Users\\Tim\\AppData\\Local\\Temp\\ipykernel_4604\\2200896479.py:4: DtypeWarning: Columns (37,45,179,180,182,183,189,190,193,194,197,198,203,204,205,206,207,208,211,212,213,214,218,219,220,248,249,253,254,255,260,262,263,266,267,268,269,283,284,294,295,301) have mixed types. Specify dtype option on import or set low_memory=False.\n",
      "  df = pd.read_csv(csv_file)\n",
      "C:\\Users\\Tim\\AppData\\Local\\Temp\\ipykernel_4604\\2200896479.py:4: DtypeWarning: Columns (42,44,45,50,51,52,179,180,182,183,187,188,189,190,193,194,195,196,197,198,201,202,203,204,205,206,207,208,213,214,215,216,217,218,219,220,222,224,226,240,241,242,248,249,250,251,252,253,254,255,256,258,259,260,262,263,264,265,266,267,268,269,277,283,284,295,301) have mixed types. Specify dtype option on import or set low_memory=False.\n",
      "  df = pd.read_csv(csv_file)\n",
      "C:\\Users\\Tim\\AppData\\Local\\Temp\\ipykernel_4604\\2200896479.py:4: DtypeWarning: Columns (45,179,180,182,183,189,190,193,194,197,198,203,204,205,206,207,208,218,219,220,248,249,253,254,255,260,262,263,283,284,294,295,301) have mixed types. Specify dtype option on import or set low_memory=False.\n",
      "  df = pd.read_csv(csv_file)\n",
      "C:\\Users\\Tim\\AppData\\Local\\Temp\\ipykernel_4604\\2200896479.py:4: DtypeWarning: Columns (45,179,180,182,183,189,190,193,194,197,198,203,204,205,206,209,210,218,219,220,248,249,253,254,255,260,262,263,283,284,295,301) have mixed types. Specify dtype option on import or set low_memory=False.\n",
      "  df = pd.read_csv(csv_file)\n",
      "C:\\Users\\Tim\\AppData\\Local\\Temp\\ipykernel_4604\\2200896479.py:4: DtypeWarning: Columns (45,179,180,189,190,193,194,197,198,203,204,205,206,213,214,218,219,220,222,224,226,248,249,253,254,255,260,262,263,266,267,268,269,283,284,295,301) have mixed types. Specify dtype option on import or set low_memory=False.\n",
      "  df = pd.read_csv(csv_file)\n",
      "C:\\Users\\Tim\\AppData\\Local\\Temp\\ipykernel_4604\\2200896479.py:4: DtypeWarning: Columns (45,179,180,182,183,189,190,193,194,197,198,203,204,205,206,218,219,220,248,249,253,254,255,260,262,263,283,284,294,295,301) have mixed types. Specify dtype option on import or set low_memory=False.\n",
      "  df = pd.read_csv(csv_file)\n",
      "C:\\Users\\Tim\\AppData\\Local\\Temp\\ipykernel_4604\\2200896479.py:4: DtypeWarning: Columns (45,179,180,182,183,189,190,193,194,197,198,203,204,205,206,209,210,213,214,218,219,220,253,254,255,260,262,263,283,284,294,295,301) have mixed types. Specify dtype option on import or set low_memory=False.\n",
      "  df = pd.read_csv(csv_file)\n",
      "C:\\Users\\Tim\\AppData\\Local\\Temp\\ipykernel_4604\\2200896479.py:4: DtypeWarning: Columns (179,180,182,183,189,190,193,194,197,198,203,204,205,206,218,219,220,248,249,253,254,255,260,262,263,283,284,294,295,301) have mixed types. Specify dtype option on import or set low_memory=False.\n",
      "  df = pd.read_csv(csv_file)\n",
      "C:\\Users\\Tim\\AppData\\Local\\Temp\\ipykernel_4604\\2200896479.py:4: DtypeWarning: Columns (45,179,180,182,183,193,194,197,198,203,204,205,206,209,210,218,219,220,253,254,255,260,262,263,283,284,294,295,301) have mixed types. Specify dtype option on import or set low_memory=False.\n",
      "  df = pd.read_csv(csv_file)\n",
      "C:\\Users\\Tim\\AppData\\Local\\Temp\\ipykernel_4604\\2200896479.py:4: DtypeWarning: Columns (45,179,180,182,183,189,190,193,194,197,198,203,204,218,219,220,248,249,253,254,255,260,262,263,283,284,294,295,301) have mixed types. Specify dtype option on import or set low_memory=False.\n",
      "  df = pd.read_csv(csv_file)\n",
      "C:\\Users\\Tim\\AppData\\Local\\Temp\\ipykernel_4604\\2200896479.py:4: DtypeWarning: Columns (45,179,180,182,183,189,190,193,194,197,198,203,204,205,206,218,219,220,233,234,235,236,237,238,248,249,253,254,255,260,262,263,283,284,301) have mixed types. Specify dtype option on import or set low_memory=False.\n",
      "  df = pd.read_csv(csv_file)\n",
      "C:\\Users\\Tim\\AppData\\Local\\Temp\\ipykernel_4604\\2200896479.py:4: DtypeWarning: Columns (179,180,182,183,189,190,193,194,197,198,203,204,205,206,209,210,218,219,220,248,249,253,254,255,260,262,263,283,284,301) have mixed types. Specify dtype option on import or set low_memory=False.\n",
      "  df = pd.read_csv(csv_file)\n",
      "C:\\Users\\Tim\\AppData\\Local\\Temp\\ipykernel_4604\\2200896479.py:4: DtypeWarning: Columns (179,180,182,183,189,190,193,194,197,198,203,204,205,206,213,214,218,219,220,253,254,255,260,262,263,266,267,268,269,283,284,301) have mixed types. Specify dtype option on import or set low_memory=False.\n",
      "  df = pd.read_csv(csv_file)\n",
      "C:\\Users\\Tim\\AppData\\Local\\Temp\\ipykernel_4604\\2200896479.py:4: DtypeWarning: Columns (179,180,182,183,193,194,197,198,203,204,205,206,218,219,220,248,249,253,254,255,260,262,263,283,284,301) have mixed types. Specify dtype option on import or set low_memory=False.\n",
      "  df = pd.read_csv(csv_file)\n",
      "C:\\Users\\Tim\\AppData\\Local\\Temp\\ipykernel_4604\\2200896479.py:4: DtypeWarning: Columns (179,180,182,183,189,190,193,194,197,198,203,204,205,206,209,210,218,219,220,233,234,235,236,237,238,253,254,255,260,262,263,283,284,301) have mixed types. Specify dtype option on import or set low_memory=False.\n",
      "  df = pd.read_csv(csv_file)\n",
      "C:\\Users\\Tim\\AppData\\Local\\Temp\\ipykernel_4604\\2200896479.py:4: DtypeWarning: Columns (179,180,182,183,189,190,193,194,197,198,203,204,205,206,213,214,218,219,220,222,224,226,248,249,253,254,255,260,262,263,266,267,268,269,283,284,301) have mixed types. Specify dtype option on import or set low_memory=False.\n",
      "  df = pd.read_csv(csv_file)\n",
      "C:\\Users\\Tim\\AppData\\Local\\Temp\\ipykernel_4604\\2200896479.py:4: DtypeWarning: Columns (179,180,182,183,189,190,193,194,197,198,203,204,205,206,218,219,220,233,234,235,236,237,238,248,249,253,254,255,260,262,263,283,284,301) have mixed types. Specify dtype option on import or set low_memory=False.\n",
      "  df = pd.read_csv(csv_file)\n",
      "C:\\Users\\Tim\\AppData\\Local\\Temp\\ipykernel_4604\\2200896479.py:4: DtypeWarning: Columns (179,180,182,183,189,190,193,194,197,198,203,204,205,206,218,219,220,222,224,226,243,244,245,253,254,255,260,262,263,283,284,301) have mixed types. Specify dtype option on import or set low_memory=False.\n",
      "  df = pd.read_csv(csv_file)\n",
      "C:\\Users\\Tim\\AppData\\Local\\Temp\\ipykernel_4604\\2200896479.py:4: DtypeWarning: Columns (179,180,182,183,203,204,205,206,218,219,220,253,254,255,260,262,263,283,284,332) have mixed types. Specify dtype option on import or set low_memory=False.\n",
      "  df = pd.read_csv(csv_file)\n"
     ]
    }
   ],
   "source": [
    "# load each csv file as a dataframe and collect them in a list\n",
    "dataframes = []\n",
    "for csv_file in csv_files:\n",
    "    df = pd.read_csv(csv_file)\n",
    "    dataframes.append(df)"
   ]
  },
  {
   "cell_type": "code",

   "execution_count": 5,

   "metadata": {},
   "outputs": [
    {
     "data": {
      "text/plain": [
       "['kickoff',\n",
       " 'pass',\n",
       " 'run',\n",
       " 'no_play',\n",
       " 'punt',\n",
       " 'extra_point',\n",
       " nan,\n",
       " 'field_goal',\n",
       " 'qb_kneel',\n",
       " 'qb_spike']"
      ]
     },

     "execution_count": 5,

     "metadata": {},
     "output_type": "execute_result"
    }
   ],
   "source": [
    "list(dataframes[0][\"play_type\"].unique())"
   ]
  },
  {
   "cell_type": "code",

   "execution_count": 6,

   "metadata": {},
   "outputs": [],
   "source": [
    "# remove useless plays from dataframes to reduce size for combining dataframes\n",
    "for dataframe in dataframes:\n",
    "    dataframe.drop(\n",
    "        dataframe[~dataframe[\"play_type\"].isin([\"pass\", \"run\"])].index,\n",
    "        axis=0,\n",
    "        inplace=True,\n",
    "    )"
   ]
  },
  {
   "cell_type": "code",

   "metadata": {},
   "outputs": [],
   "source": [
    "# combine all dataframes into a single one\n",
    "combined_df = pd.concat(dataframes, axis=0)\n",
    "\n",
    "# reset the index of the combined dataframe\n",
    "combined_df.reset_index(drop=True, inplace=True)"
   ]
  },
  {
   "cell_type": "code",

   "metadata": {},
   "outputs": [],
   "source": [
    "# drop safeties\n",
    "combined_df.drop(combined_df[combined_df[\"safety\"] == 1].index, axis=0, inplace=True)"
   ]
  },
  {
   "cell_type": "code",

   "metadata": {},
   "outputs": [],
   "source": [
    "# drop plays with penalties\n",
    "combined_df.drop(combined_df[combined_df[\"penalty\"] == 1].index, axis=0, inplace=True)"
   ]
  },
  {
   "cell_type": "code",

   "metadata": {},
   "outputs": [],
   "source": [
    "# drop plays with laterals\n",
    "combined_df.drop(\n",
    "    combined_df[combined_df[\"lateral_reception\"] == 1].index, axis=0, inplace=True\n",
    ")"
   ]
  },
  {
   "cell_type": "code",

   "metadata": {},
   "outputs": [],
   "source": [
    "# drop plays with laterals\n",
    "combined_df.drop(\n",
    "    combined_df[combined_df[\"lateral_rush\"] == 1].index, axis=0, inplace=True\n",
    ")"
   ]
  },
  {
   "cell_type": "code",

   "metadata": {},
   "outputs": [],
   "source": [
    "# drop plays with replays or challenges\n",
    "combined_df.drop(\n",
    "    combined_df[combined_df[\"replay_or_challenge\"] == 1].index, axis=0, inplace=True\n",
    ")"
   ]
  },
  {
   "cell_type": "code",

   "metadata": {},
   "outputs": [],
   "source": [
    "# drop two point conversion plays\n",
    "combined_df.drop(\n",
    "    combined_df[~combined_df[\"two_point_conv_result\"].isna()].index, axis=0, inplace=True\n",
    ")"
   ]
  },
  {
   "cell_type": "code",

   "metadata": {},
   "outputs": [],
   "source": [
    "#  make copy of combined_df\n",
    "combined_df_copy = combined_df.copy()"
   ]
  },
  {
   "cell_type": "code",

   "metadata": {},
   "outputs": [
    {
     "data": {
      "text/html": [
       "<div>\n",
       "<style scoped>\n",
       "    .dataframe tbody tr th:only-of-type {\n",
       "        vertical-align: middle;\n",
       "    }\n",
       "\n",
       "    .dataframe tbody tr th {\n",
       "        vertical-align: top;\n",
       "    }\n",
       "\n",
       "    .dataframe thead th {\n",
       "        text-align: right;\n",
       "    }\n",
       "</style>\n",
       "<table border=\"1\" class=\"dataframe\">\n",
       "  <thead>\n",
       "    <tr style=\"text-align: right;\">\n",
       "      <th></th>\n",
       "      <th>play_id</th>\n",
       "      <th>old_game_id</th>\n",
       "      <th>home_team</th>\n",
       "      <th>away_team</th>\n",
       "      <th>season_type</th>\n",
       "      <th>week</th>\n",
       "      <th>posteam</th>\n",
       "      <th>posteam_type</th>\n",
       "      <th>defteam</th>\n",
       "      <th>side_of_field</th>\n",
       "      <th>...</th>\n",
       "      <th>out_of_bounds</th>\n",
       "      <th>home_opening_kickoff</th>\n",
       "      <th>qb_epa</th>\n",
       "      <th>xyac_epa</th>\n",
       "      <th>xyac_mean_yardage</th>\n",
       "      <th>xyac_median_yardage</th>\n",
       "      <th>xyac_success</th>\n",
       "      <th>xyac_fd</th>\n",
       "      <th>xpass</th>\n",
       "      <th>pass_oe</th>\n",
       "    </tr>\n",
       "    <tr>\n",
       "      <th>game_id</th>\n",
       "      <th></th>\n",
       "      <th></th>\n",
       "      <th></th>\n",
       "      <th></th>\n",
       "      <th></th>\n",
       "      <th></th>\n",
       "      <th></th>\n",
       "      <th></th>\n",
       "      <th></th>\n",
       "      <th></th>\n",
       "      <th></th>\n",
       "      <th></th>\n",
       "      <th></th>\n",
       "      <th></th>\n",
       "      <th></th>\n",
       "      <th></th>\n",
       "      <th></th>\n",
       "      <th></th>\n",
       "      <th></th>\n",
       "      <th></th>\n",
       "      <th></th>\n",
       "    </tr>\n",
       "  </thead>\n",
       "  <tbody>\n",
       "    <tr>\n",
       "      <th>2021_01_JAX_HOU</th>\n",
       "      <td>137</td>\n",
       "      <td>137</td>\n",
       "      <td>137</td>\n",
       "      <td>137</td>\n",
       "      <td>137</td>\n",
       "      <td>137</td>\n",
       "      <td>137</td>\n",
       "      <td>137</td>\n",
       "      <td>137</td>\n",
       "      <td>137</td>\n",
       "      <td>...</td>\n",
       "      <td>137</td>\n",
       "      <td>137</td>\n",
       "      <td>137</td>\n",
       "      <td>75</td>\n",
       "      <td>75</td>\n",
       "      <td>75</td>\n",
       "      <td>75</td>\n",
       "      <td>75</td>\n",
       "      <td>137</td>\n",
       "      <td>137</td>\n",
       "    </tr>\n",
       "    <tr>\n",
       "      <th>2021_01_PHI_ATL</th>\n",
       "      <td>125</td>\n",
       "      <td>125</td>\n",
       "      <td>125</td>\n",
       "      <td>125</td>\n",
       "      <td>125</td>\n",
       "      <td>125</td>\n",
       "      <td>125</td>\n",
       "      <td>125</td>\n",
       "      <td>125</td>\n",
       "      <td>125</td>\n",
       "      <td>...</td>\n",
       "      <td>125</td>\n",
       "      <td>125</td>\n",
       "      <td>125</td>\n",
       "      <td>61</td>\n",
       "      <td>61</td>\n",
       "      <td>61</td>\n",
       "      <td>61</td>\n",
       "      <td>61</td>\n",
       "      <td>125</td>\n",
       "      <td>125</td>\n",
       "    </tr>\n",
       "    <tr>\n",
       "      <th>2021_01_SEA_IND</th>\n",
       "      <td>123</td>\n",
       "      <td>123</td>\n",
       "      <td>123</td>\n",
       "      <td>123</td>\n",
       "      <td>123</td>\n",
       "      <td>123</td>\n",
       "      <td>123</td>\n",
       "      <td>123</td>\n",
       "      <td>123</td>\n",
       "      <td>123</td>\n",
       "      <td>...</td>\n",
       "      <td>123</td>\n",
       "      <td>123</td>\n",
       "      <td>123</td>\n",
       "      <td>51</td>\n",
       "      <td>51</td>\n",
       "      <td>51</td>\n",
       "      <td>51</td>\n",
       "      <td>51</td>\n",
       "      <td>123</td>\n",
       "      <td>123</td>\n",
       "    </tr>\n",
       "    <tr>\n",
       "      <th>2021_02_LA_IND</th>\n",
       "      <td>123</td>\n",
       "      <td>123</td>\n",
       "      <td>123</td>\n",
       "      <td>123</td>\n",
       "      <td>123</td>\n",
       "      <td>123</td>\n",
       "      <td>123</td>\n",
       "      <td>123</td>\n",
       "      <td>123</td>\n",
       "      <td>123</td>\n",
       "      <td>...</td>\n",
       "      <td>123</td>\n",
       "      <td>123</td>\n",
       "      <td>123</td>\n",
       "      <td>57</td>\n",
       "      <td>57</td>\n",
       "      <td>57</td>\n",
       "      <td>57</td>\n",
       "      <td>57</td>\n",
       "      <td>123</td>\n",
       "      <td>123</td>\n",
       "    </tr>\n",
       "    <tr>\n",
       "      <th>2021_03_CAR_HOU</th>\n",
       "      <td>114</td>\n",
       "      <td>114</td>\n",
       "      <td>114</td>\n",
       "      <td>114</td>\n",
       "      <td>114</td>\n",
       "      <td>114</td>\n",
       "      <td>114</td>\n",
       "      <td>114</td>\n",
       "      <td>114</td>\n",
       "      <td>114</td>\n",
       "      <td>...</td>\n",
       "      <td>114</td>\n",
       "      <td>114</td>\n",
       "      <td>114</td>\n",
       "      <td>56</td>\n",
       "      <td>56</td>\n",
       "      <td>56</td>\n",
       "      <td>56</td>\n",
       "      <td>56</td>\n",
       "      <td>114</td>\n",
       "      <td>114</td>\n",
       "    </tr>\n",
       "    <tr>\n",
       "      <th>2021_04_WAS_ATL</th>\n",
       "      <td>127</td>\n",
       "      <td>127</td>\n",
       "      <td>127</td>\n",
       "      <td>127</td>\n",
       "      <td>127</td>\n",
       "      <td>127</td>\n",
       "      <td>127</td>\n",
       "      <td>127</td>\n",
       "      <td>127</td>\n",
       "      <td>127</td>\n",
       "      <td>...</td>\n",
       "      <td>127</td>\n",
       "      <td>127</td>\n",
       "      <td>127</td>\n",
       "      <td>63</td>\n",
       "      <td>63</td>\n",
       "      <td>63</td>\n",
       "      <td>63</td>\n",
       "      <td>63</td>\n",
       "      <td>127</td>\n",
       "      <td>127</td>\n",
       "    </tr>\n",
       "    <tr>\n",
       "      <th>2021_05_NE_HOU</th>\n",
       "      <td>110</td>\n",
       "      <td>110</td>\n",
       "      <td>110</td>\n",
       "      <td>110</td>\n",
       "      <td>110</td>\n",
       "      <td>110</td>\n",
       "      <td>110</td>\n",
       "      <td>110</td>\n",
       "      <td>110</td>\n",
       "      <td>110</td>\n",
       "      <td>...</td>\n",
       "      <td>110</td>\n",
       "      <td>110</td>\n",
       "      <td>110</td>\n",
       "      <td>51</td>\n",
       "      <td>51</td>\n",
       "      <td>51</td>\n",
       "      <td>51</td>\n",
       "      <td>51</td>\n",
       "      <td>110</td>\n",
       "      <td>110</td>\n",
       "    </tr>\n",
       "    <tr>\n",
       "      <th>2021_06_HOU_IND</th>\n",
       "      <td>119</td>\n",
       "      <td>119</td>\n",
       "      <td>119</td>\n",
       "      <td>119</td>\n",
       "      <td>119</td>\n",
       "      <td>119</td>\n",
       "      <td>119</td>\n",
       "      <td>119</td>\n",
       "      <td>119</td>\n",
       "      <td>119</td>\n",
       "      <td>...</td>\n",
       "      <td>119</td>\n",
       "      <td>119</td>\n",
       "      <td>119</td>\n",
       "      <td>57</td>\n",
       "      <td>57</td>\n",
       "      <td>57</td>\n",
       "      <td>57</td>\n",
       "      <td>57</td>\n",
       "      <td>119</td>\n",
       "      <td>119</td>\n",
       "    </tr>\n",
       "    <tr>\n",
       "      <th>2021_08_CAR_ATL</th>\n",
       "      <td>118</td>\n",
       "      <td>118</td>\n",
       "      <td>118</td>\n",
       "      <td>118</td>\n",
       "      <td>118</td>\n",
       "      <td>118</td>\n",
       "      <td>118</td>\n",
       "      <td>118</td>\n",
       "      <td>118</td>\n",
       "      <td>118</td>\n",
       "      <td>...</td>\n",
       "      <td>118</td>\n",
       "      <td>118</td>\n",
       "      <td>118</td>\n",
       "      <td>47</td>\n",
       "      <td>47</td>\n",
       "      <td>47</td>\n",
       "      <td>47</td>\n",
       "      <td>47</td>\n",
       "      <td>118</td>\n",
       "      <td>118</td>\n",
       "    </tr>\n",
       "    <tr>\n",
       "      <th>2021_08_LA_HOU</th>\n",
       "      <td>124</td>\n",
       "      <td>124</td>\n",
       "      <td>124</td>\n",
       "      <td>124</td>\n",
       "      <td>124</td>\n",
       "      <td>124</td>\n",
       "      <td>124</td>\n",
       "      <td>124</td>\n",
       "      <td>124</td>\n",
       "      <td>124</td>\n",
       "      <td>...</td>\n",
       "      <td>124</td>\n",
       "      <td>124</td>\n",
       "      <td>124</td>\n",
       "      <td>63</td>\n",
       "      <td>63</td>\n",
       "      <td>63</td>\n",
       "      <td>63</td>\n",
       "      <td>63</td>\n",
       "      <td>124</td>\n",
       "      <td>124</td>\n",
       "    </tr>\n",
       "    <tr>\n",
       "      <th>2021_08_TEN_IND</th>\n",
       "      <td>136</td>\n",
       "      <td>136</td>\n",
       "      <td>136</td>\n",
       "      <td>136</td>\n",
       "      <td>136</td>\n",
       "      <td>136</td>\n",
       "      <td>136</td>\n",
       "      <td>136</td>\n",
       "      <td>136</td>\n",
       "      <td>136</td>\n",
       "      <td>...</td>\n",
       "      <td>136</td>\n",
       "      <td>136</td>\n",
       "      <td>136</td>\n",
       "      <td>71</td>\n",
       "      <td>71</td>\n",
       "      <td>71</td>\n",
       "      <td>71</td>\n",
       "      <td>71</td>\n",
       "      <td>136</td>\n",
       "      <td>136</td>\n",
       "    </tr>\n",
       "    <tr>\n",
       "      <th>2021_09_NYJ_IND</th>\n",
       "      <td>130</td>\n",
       "      <td>130</td>\n",
       "      <td>130</td>\n",
       "      <td>130</td>\n",
       "      <td>130</td>\n",
       "      <td>130</td>\n",
       "      <td>130</td>\n",
       "      <td>130</td>\n",
       "      <td>130</td>\n",
       "      <td>130</td>\n",
       "      <td>...</td>\n",
       "      <td>130</td>\n",
       "      <td>130</td>\n",
       "      <td>130</td>\n",
       "      <td>75</td>\n",
       "      <td>75</td>\n",
       "      <td>75</td>\n",
       "      <td>75</td>\n",
       "      <td>75</td>\n",
       "      <td>130</td>\n",
       "      <td>130</td>\n",
       "    </tr>\n",
       "    <tr>\n",
       "      <th>2021_10_JAX_IND</th>\n",
       "      <td>118</td>\n",
       "      <td>118</td>\n",
       "      <td>118</td>\n",
       "      <td>118</td>\n",
       "      <td>118</td>\n",
       "      <td>118</td>\n",
       "      <td>118</td>\n",
       "      <td>118</td>\n",
       "      <td>118</td>\n",
       "      <td>118</td>\n",
       "      <td>...</td>\n",
       "      <td>118</td>\n",
       "      <td>118</td>\n",
       "      <td>118</td>\n",
       "      <td>65</td>\n",
       "      <td>65</td>\n",
       "      <td>65</td>\n",
       "      <td>65</td>\n",
       "      <td>65</td>\n",
       "      <td>118</td>\n",
       "      <td>118</td>\n",
       "    </tr>\n",
       "    <tr>\n",
       "      <th>2021_11_NE_ATL</th>\n",
       "      <td>108</td>\n",
       "      <td>108</td>\n",
       "      <td>108</td>\n",
       "      <td>108</td>\n",
       "      <td>108</td>\n",
       "      <td>108</td>\n",
       "      <td>108</td>\n",
       "      <td>108</td>\n",
       "      <td>108</td>\n",
       "      <td>108</td>\n",
       "      <td>...</td>\n",
       "      <td>108</td>\n",
       "      <td>108</td>\n",
       "      <td>108</td>\n",
       "      <td>56</td>\n",
       "      <td>56</td>\n",
       "      <td>56</td>\n",
       "      <td>56</td>\n",
       "      <td>56</td>\n",
       "      <td>108</td>\n",
       "      <td>108</td>\n",
       "    </tr>\n",
       "    <tr>\n",
       "      <th>2021_12_NYJ_HOU</th>\n",
       "      <td>115</td>\n",
       "      <td>115</td>\n",
       "      <td>115</td>\n",
       "      <td>115</td>\n",
       "      <td>115</td>\n",
       "      <td>115</td>\n",
       "      <td>115</td>\n",
       "      <td>115</td>\n",
       "      <td>115</td>\n",
       "      <td>115</td>\n",
       "      <td>...</td>\n",
       "      <td>115</td>\n",
       "      <td>115</td>\n",
       "      <td>115</td>\n",
       "      <td>45</td>\n",
       "      <td>45</td>\n",
       "      <td>45</td>\n",
       "      <td>45</td>\n",
       "      <td>45</td>\n",
       "      <td>115</td>\n",
       "      <td>115</td>\n",
       "    </tr>\n",
       "    <tr>\n",
       "      <th>2021_12_TB_IND</th>\n",
       "      <td>129</td>\n",
       "      <td>129</td>\n",
       "      <td>129</td>\n",
       "      <td>129</td>\n",
       "      <td>129</td>\n",
       "      <td>129</td>\n",
       "      <td>129</td>\n",
       "      <td>129</td>\n",
       "      <td>129</td>\n",
       "      <td>129</td>\n",
       "      <td>...</td>\n",
       "      <td>129</td>\n",
       "      <td>129</td>\n",
       "      <td>129</td>\n",
       "      <td>75</td>\n",
       "      <td>75</td>\n",
       "      <td>75</td>\n",
       "      <td>75</td>\n",
       "      <td>75</td>\n",
       "      <td>129</td>\n",
       "      <td>129</td>\n",
       "    </tr>\n",
       "    <tr>\n",
       "      <th>2021_13_IND_HOU</th>\n",
       "      <td>116</td>\n",
       "      <td>116</td>\n",
       "      <td>116</td>\n",
       "      <td>116</td>\n",
       "      <td>116</td>\n",
       "      <td>116</td>\n",
       "      <td>116</td>\n",
       "      <td>116</td>\n",
       "      <td>116</td>\n",
       "      <td>116</td>\n",
       "      <td>...</td>\n",
       "      <td>116</td>\n",
       "      <td>116</td>\n",
       "      <td>116</td>\n",
       "      <td>43</td>\n",
       "      <td>43</td>\n",
       "      <td>43</td>\n",
       "      <td>43</td>\n",
       "      <td>43</td>\n",
       "      <td>116</td>\n",
       "      <td>116</td>\n",
       "    </tr>\n",
       "    <tr>\n",
       "      <th>2021_13_TB_ATL</th>\n",
       "      <td>132</td>\n",
       "      <td>132</td>\n",
       "      <td>132</td>\n",
       "      <td>132</td>\n",
       "      <td>132</td>\n",
       "      <td>132</td>\n",
       "      <td>132</td>\n",
       "      <td>132</td>\n",
       "      <td>132</td>\n",
       "      <td>132</td>\n",
       "      <td>...</td>\n",
       "      <td>132</td>\n",
       "      <td>132</td>\n",
       "      <td>132</td>\n",
       "      <td>82</td>\n",
       "      <td>82</td>\n",
       "      <td>82</td>\n",
       "      <td>82</td>\n",
       "      <td>82</td>\n",
       "      <td>132</td>\n",
       "      <td>132</td>\n",
       "    </tr>\n",
       "    <tr>\n",
       "      <th>2021_14_SEA_HOU</th>\n",
       "      <td>130</td>\n",
       "      <td>130</td>\n",
       "      <td>130</td>\n",
       "      <td>130</td>\n",
       "      <td>130</td>\n",
       "      <td>130</td>\n",
       "      <td>130</td>\n",
       "      <td>130</td>\n",
       "      <td>130</td>\n",
       "      <td>130</td>\n",
       "      <td>...</td>\n",
       "      <td>130</td>\n",
       "      <td>130</td>\n",
       "      <td>130</td>\n",
       "      <td>70</td>\n",
       "      <td>70</td>\n",
       "      <td>70</td>\n",
       "      <td>70</td>\n",
       "      <td>70</td>\n",
       "      <td>130</td>\n",
       "      <td>130</td>\n",
       "    </tr>\n",
       "    <tr>\n",
       "      <th>2021_15_NE_IND</th>\n",
       "      <td>113</td>\n",
       "      <td>113</td>\n",
       "      <td>113</td>\n",
       "      <td>113</td>\n",
       "      <td>113</td>\n",
       "      <td>113</td>\n",
       "      <td>113</td>\n",
       "      <td>113</td>\n",
       "      <td>113</td>\n",
       "      <td>113</td>\n",
       "      <td>...</td>\n",
       "      <td>113</td>\n",
       "      <td>113</td>\n",
       "      <td>113</td>\n",
       "      <td>48</td>\n",
       "      <td>48</td>\n",
       "      <td>48</td>\n",
       "      <td>48</td>\n",
       "      <td>48</td>\n",
       "      <td>113</td>\n",
       "      <td>113</td>\n",
       "    </tr>\n",
       "    <tr>\n",
       "      <th>2021_16_DET_ATL</th>\n",
       "      <td>112</td>\n",
       "      <td>112</td>\n",
       "      <td>112</td>\n",
       "      <td>112</td>\n",
       "      <td>112</td>\n",
       "      <td>112</td>\n",
       "      <td>112</td>\n",
       "      <td>112</td>\n",
       "      <td>112</td>\n",
       "      <td>112</td>\n",
       "      <td>...</td>\n",
       "      <td>112</td>\n",
       "      <td>112</td>\n",
       "      <td>112</td>\n",
       "      <td>55</td>\n",
       "      <td>55</td>\n",
       "      <td>55</td>\n",
       "      <td>55</td>\n",
       "      <td>55</td>\n",
       "      <td>112</td>\n",
       "      <td>112</td>\n",
       "    </tr>\n",
       "    <tr>\n",
       "      <th>2021_16_LAC_HOU</th>\n",
       "      <td>115</td>\n",
       "      <td>115</td>\n",
       "      <td>115</td>\n",
       "      <td>115</td>\n",
       "      <td>115</td>\n",
       "      <td>115</td>\n",
       "      <td>115</td>\n",
       "      <td>115</td>\n",
       "      <td>115</td>\n",
       "      <td>115</td>\n",
       "      <td>...</td>\n",
       "      <td>115</td>\n",
       "      <td>115</td>\n",
       "      <td>115</td>\n",
       "      <td>58</td>\n",
       "      <td>58</td>\n",
       "      <td>58</td>\n",
       "      <td>58</td>\n",
       "      <td>58</td>\n",
       "      <td>115</td>\n",
       "      <td>115</td>\n",
       "    </tr>\n",
       "    <tr>\n",
       "      <th>2021_17_LV_IND</th>\n",
       "      <td>114</td>\n",
       "      <td>114</td>\n",
       "      <td>114</td>\n",
       "      <td>114</td>\n",
       "      <td>114</td>\n",
       "      <td>114</td>\n",
       "      <td>114</td>\n",
       "      <td>114</td>\n",
       "      <td>114</td>\n",
       "      <td>114</td>\n",
       "      <td>...</td>\n",
       "      <td>114</td>\n",
       "      <td>114</td>\n",
       "      <td>114</td>\n",
       "      <td>52</td>\n",
       "      <td>52</td>\n",
       "      <td>52</td>\n",
       "      <td>52</td>\n",
       "      <td>52</td>\n",
       "      <td>114</td>\n",
       "      <td>114</td>\n",
       "    </tr>\n",
       "    <tr>\n",
       "      <th>2021_18_NO_ATL</th>\n",
       "      <td>113</td>\n",
       "      <td>113</td>\n",
       "      <td>113</td>\n",
       "      <td>113</td>\n",
       "      <td>113</td>\n",
       "      <td>113</td>\n",
       "      <td>113</td>\n",
       "      <td>113</td>\n",
       "      <td>113</td>\n",
       "      <td>113</td>\n",
       "      <td>...</td>\n",
       "      <td>113</td>\n",
       "      <td>113</td>\n",
       "      <td>113</td>\n",
       "      <td>42</td>\n",
       "      <td>42</td>\n",
       "      <td>42</td>\n",
       "      <td>42</td>\n",
       "      <td>42</td>\n",
       "      <td>113</td>\n",
       "      <td>113</td>\n",
       "    </tr>\n",
       "    <tr>\n",
       "      <th>2021_18_TEN_HOU</th>\n",
       "      <td>117</td>\n",
       "      <td>117</td>\n",
       "      <td>117</td>\n",
       "      <td>117</td>\n",
       "      <td>117</td>\n",
       "      <td>117</td>\n",
       "      <td>117</td>\n",
       "      <td>117</td>\n",
       "      <td>117</td>\n",
       "      <td>117</td>\n",
       "      <td>...</td>\n",
       "      <td>117</td>\n",
       "      <td>117</td>\n",
       "      <td>117</td>\n",
       "      <td>62</td>\n",
       "      <td>62</td>\n",
       "      <td>62</td>\n",
       "      <td>62</td>\n",
       "      <td>62</td>\n",
       "      <td>117</td>\n",
       "      <td>117</td>\n",
       "    </tr>\n",
       "  </tbody>\n",
       "</table>\n",
       "<p>25 rows × 371 columns</p>\n",
       "</div>"
      ],
      "text/plain": [
       "                 play_id  old_game_id  home_team  away_team  season_type  \\\n",
       "game_id                                                                    \n",
       "2021_01_JAX_HOU      137          137        137        137          137   \n",
       "2021_01_PHI_ATL      125          125        125        125          125   \n",
       "2021_01_SEA_IND      123          123        123        123          123   \n",
       "2021_02_LA_IND       123          123        123        123          123   \n",
       "2021_03_CAR_HOU      114          114        114        114          114   \n",
       "2021_04_WAS_ATL      127          127        127        127          127   \n",
       "2021_05_NE_HOU       110          110        110        110          110   \n",
       "2021_06_HOU_IND      119          119        119        119          119   \n",
       "2021_08_CAR_ATL      118          118        118        118          118   \n",
       "2021_08_LA_HOU       124          124        124        124          124   \n",
       "2021_08_TEN_IND      136          136        136        136          136   \n",
       "2021_09_NYJ_IND      130          130        130        130          130   \n",
       "2021_10_JAX_IND      118          118        118        118          118   \n",
       "2021_11_NE_ATL       108          108        108        108          108   \n",
       "2021_12_NYJ_HOU      115          115        115        115          115   \n",
       "2021_12_TB_IND       129          129        129        129          129   \n",
       "2021_13_IND_HOU      116          116        116        116          116   \n",
       "2021_13_TB_ATL       132          132        132        132          132   \n",
       "2021_14_SEA_HOU      130          130        130        130          130   \n",
       "2021_15_NE_IND       113          113        113        113          113   \n",
       "2021_16_DET_ATL      112          112        112        112          112   \n",
       "2021_16_LAC_HOU      115          115        115        115          115   \n",
       "2021_17_LV_IND       114          114        114        114          114   \n",
       "2021_18_NO_ATL       113          113        113        113          113   \n",
       "2021_18_TEN_HOU      117          117        117        117          117   \n",
       "\n",
       "                 week  posteam  posteam_type  defteam  side_of_field  ...  \\\n",
       "game_id                                                               ...   \n",
       "2021_01_JAX_HOU   137      137           137      137            137  ...   \n",
       "2021_01_PHI_ATL   125      125           125      125            125  ...   \n",
       "2021_01_SEA_IND   123      123           123      123            123  ...   \n",
       "2021_02_LA_IND    123      123           123      123            123  ...   \n",
       "2021_03_CAR_HOU   114      114           114      114            114  ...   \n",
       "2021_04_WAS_ATL   127      127           127      127            127  ...   \n",
       "2021_05_NE_HOU    110      110           110      110            110  ...   \n",
       "2021_06_HOU_IND   119      119           119      119            119  ...   \n",
       "2021_08_CAR_ATL   118      118           118      118            118  ...   \n",
       "2021_08_LA_HOU    124      124           124      124            124  ...   \n",
       "2021_08_TEN_IND   136      136           136      136            136  ...   \n",
       "2021_09_NYJ_IND   130      130           130      130            130  ...   \n",
       "2021_10_JAX_IND   118      118           118      118            118  ...   \n",
       "2021_11_NE_ATL    108      108           108      108            108  ...   \n",
       "2021_12_NYJ_HOU   115      115           115      115            115  ...   \n",
       "2021_12_TB_IND    129      129           129      129            129  ...   \n",
       "2021_13_IND_HOU   116      116           116      116            116  ...   \n",
       "2021_13_TB_ATL    132      132           132      132            132  ...   \n",
       "2021_14_SEA_HOU   130      130           130      130            130  ...   \n",
       "2021_15_NE_IND    113      113           113      113            113  ...   \n",
       "2021_16_DET_ATL   112      112           112      112            112  ...   \n",
       "2021_16_LAC_HOU   115      115           115      115            115  ...   \n",
       "2021_17_LV_IND    114      114           114      114            114  ...   \n",
       "2021_18_NO_ATL    113      113           113      113            113  ...   \n",
       "2021_18_TEN_HOU   117      117           117      117            117  ...   \n",
       "\n",
       "                 out_of_bounds  home_opening_kickoff  qb_epa  xyac_epa  \\\n",
       "game_id                                                                  \n",
       "2021_01_JAX_HOU            137                   137     137        75   \n",
       "2021_01_PHI_ATL            125                   125     125        61   \n",
       "2021_01_SEA_IND            123                   123     123        51   \n",
       "2021_02_LA_IND             123                   123     123        57   \n",
       "2021_03_CAR_HOU            114                   114     114        56   \n",
       "2021_04_WAS_ATL            127                   127     127        63   \n",
       "2021_05_NE_HOU             110                   110     110        51   \n",
       "2021_06_HOU_IND            119                   119     119        57   \n",
       "2021_08_CAR_ATL            118                   118     118        47   \n",
       "2021_08_LA_HOU             124                   124     124        63   \n",
       "2021_08_TEN_IND            136                   136     136        71   \n",
       "2021_09_NYJ_IND            130                   130     130        75   \n",
       "2021_10_JAX_IND            118                   118     118        65   \n",
       "2021_11_NE_ATL             108                   108     108        56   \n",
       "2021_12_NYJ_HOU            115                   115     115        45   \n",
       "2021_12_TB_IND             129                   129     129        75   \n",
       "2021_13_IND_HOU            116                   116     116        43   \n",
       "2021_13_TB_ATL             132                   132     132        82   \n",
       "2021_14_SEA_HOU            130                   130     130        70   \n",
       "2021_15_NE_IND             113                   113     113        48   \n",
       "2021_16_DET_ATL            112                   112     112        55   \n",
       "2021_16_LAC_HOU            115                   115     115        58   \n",
       "2021_17_LV_IND             114                   114     114        52   \n",
       "2021_18_NO_ATL             113                   113     113        42   \n",
       "2021_18_TEN_HOU            117                   117     117        62   \n",
       "\n",
       "                 xyac_mean_yardage  xyac_median_yardage  xyac_success  \\\n",
       "game_id                                                                 \n",
       "2021_01_JAX_HOU                 75                   75            75   \n",
       "2021_01_PHI_ATL                 61                   61            61   \n",
       "2021_01_SEA_IND                 51                   51            51   \n",
       "2021_02_LA_IND                  57                   57            57   \n",
       "2021_03_CAR_HOU                 56                   56            56   \n",
       "2021_04_WAS_ATL                 63                   63            63   \n",
       "2021_05_NE_HOU                  51                   51            51   \n",
       "2021_06_HOU_IND                 57                   57            57   \n",
       "2021_08_CAR_ATL                 47                   47            47   \n",
       "2021_08_LA_HOU                  63                   63            63   \n",
       "2021_08_TEN_IND                 71                   71            71   \n",
       "2021_09_NYJ_IND                 75                   75            75   \n",
       "2021_10_JAX_IND                 65                   65            65   \n",
       "2021_11_NE_ATL                  56                   56            56   \n",
       "2021_12_NYJ_HOU                 45                   45            45   \n",
       "2021_12_TB_IND                  75                   75            75   \n",
       "2021_13_IND_HOU                 43                   43            43   \n",
       "2021_13_TB_ATL                  82                   82            82   \n",
       "2021_14_SEA_HOU                 70                   70            70   \n",
       "2021_15_NE_IND                  48                   48            48   \n",
       "2021_16_DET_ATL                 55                   55            55   \n",
       "2021_16_LAC_HOU                 58                   58            58   \n",
       "2021_17_LV_IND                  52                   52            52   \n",
       "2021_18_NO_ATL                  42                   42            42   \n",
       "2021_18_TEN_HOU                 62                   62            62   \n",
       "\n",
       "                 xyac_fd  xpass  pass_oe  \n",
       "game_id                                   \n",
       "2021_01_JAX_HOU       75    137      137  \n",
       "2021_01_PHI_ATL       61    125      125  \n",
       "2021_01_SEA_IND       51    123      123  \n",
       "2021_02_LA_IND        57    123      123  \n",
       "2021_03_CAR_HOU       56    114      114  \n",
       "2021_04_WAS_ATL       63    127      127  \n",
       "2021_05_NE_HOU        51    110      110  \n",
       "2021_06_HOU_IND       57    119      119  \n",
       "2021_08_CAR_ATL       47    118      118  \n",
       "2021_08_LA_HOU        63    124      124  \n",
       "2021_08_TEN_IND       71    136      136  \n",
       "2021_09_NYJ_IND       75    130      130  \n",
       "2021_10_JAX_IND       65    118      118  \n",
       "2021_11_NE_ATL        56    108      108  \n",
       "2021_12_NYJ_HOU       45    115      115  \n",
       "2021_12_TB_IND        75    129      129  \n",
       "2021_13_IND_HOU       43    116      116  \n",
       "2021_13_TB_ATL        82    132      132  \n",
       "2021_14_SEA_HOU       70    130      130  \n",
       "2021_15_NE_IND        48    113      113  \n",
       "2021_16_DET_ATL       55    112      112  \n",
       "2021_16_LAC_HOU       58    115      115  \n",
       "2021_17_LV_IND        52    114      114  \n",
       "2021_18_NO_ATL        42    113      113  \n",
       "2021_18_TEN_HOU       62    117      117  \n",
       "\n",
       "[25 rows x 371 columns]"
      ]
     },
     "metadata": {},
     "output_type": "display_data"
    }
   ],
   "source": [
    "display(combined_df[(combined_df['roof'].isna())].groupby('game_id').count())"
   ]
  },
  {
   "cell_type": "code",

   "metadata": {},
   "outputs": [],
   "source": [
    "\"\"\"\n",
    "https://www.nfl.com/games/jaguars-at-texans-2021-reg-1 (closed)\n",
    "https://www.nfl.com/games/eagles-at-falcons-2021-reg-1 (open)\n",
    "https://www.nfl.com/games/seahawks-at-colts-2021-reg-1 (closed)\n",
    "https://www.nfl.com/games/rams-at-colts-2021-reg-2 (closed)\n",
    "https://www.nfl.com/games/panthers-at-texans-2021-reg-3 (closed)\n",
    "https://www.nfl.com/games/football-team-at-falcons-2021-reg-4 (open)\n",
    "https://www.nfl.com/games/patriots-at-texans-2021-reg-5  (closed)\n",
    "https://www.nfl.com/games/texans-at-colts-2021-reg-6 (open)\n",
    "https://www.nfl.com/games/panthers-at-falcons-2021-reg-8 (open)\n",
    "https://www.nfl.com/games/rams-at-texans-2021-reg-8 (closed)\n",
    "https://www.nfl.com/games/titans-at-colts-2021-reg-8 (open)\n",
    "https://www.nfl.com/games/jets-at-colts-2021-reg-9 (closed)\n",
    "https://www.nfl.com/games/jaguars-at-colts-2021-reg-10 (closed)\n",
    "https://www.nfl.com/games/patriots-at-falcons-2021-reg-11 (closed)\n",
    "https://www.nfl.com/games/jets-at-texans-2021-reg-12 (closed)\n",
    "https://www.nfl.com/games/buccaneers-at-colts-2021-reg-12 (closed)\n",
    "https://www.nfl.com/games/colts-at-texans-2021-reg-13 (closed)\n",
    "https://www.nfl.com/games/buccaneers-at-falcons-2021-reg-13 (closed)\n",
    "https://www.nfl.com/games/seahawks-at-texans-2021-reg-14 (open)\n",
    "https://www.nfl.com/games/patriots-at-colts-2021-reg-15 (closed)\n",
    "https://www.nfl.com/games/lions-at-falcons-2021-reg-16 (open)\n",
    "https://www.nfl.com/games/chargers-at-texans-2021-reg-16 (closed)\n",
    "https://www.nfl.com/games/raiders-at-colts-2021-reg-17 (closed)\n",
    "https://www.nfl.com/games/saints-at-falcons-2021-reg-18 (closed)\n",
    "https://www.nfl.com/games/titans-at-texans-2021-reg-18 (closed)\n",
    "\"\"\"\n",
    "\n",
    "\n",
    "closed_roof = [\n",
    "    \"2021_01_JAX_HOU\",\n",
    "    \"2021_01_SEA_IND\",\n",
    "    \"2021_02_LA_IND\",\n",
    "    \"2021_03_CAR_HOU\",\n",
    "    \"2021_05_NE_HOU\",\n",
    "    \"2021_08_LA_HOU\",\n",
    "    \"2021_09_NYJ_IND\",\n",
    "    \"2021_10_JAX_IND\",\n",
    "    \"2021_11_NE_ATL\",\n",
    "    \"2021_12_NYJ_HOU\",\n",
    "    \"2021_12_TB_IND\",\n",
    "    \"2021_13_IND_HOU\",\n",
    "    \"2021_13_TB_ATL\",\n",
    "    \"2021_15_NE_IND\",\n",
    "    \"2021_16_LAC_HOU\",\n",
    "    \"2021_17_LV_IND\",\n",
    "    \"2021_18_NO_ATL\",\n",
    "    \"2021_18_TEN_HOU\"\n",
    "]\n",
    "\n",
    "open_roof = [\n",
    "    \"2021_01_PHI_ATL\",\n",
    "    \"2021_04_WAS_ATL\",\n",
    "    \"2021_06_HOU_IND\",\n",
    "    \"2021_08_CAR_ATL\",\n",
    "    \"2021_08_TEN_IND\",\n",
    "    \"2021_14_SEA_HOU\",\n",
    "    \"2021_16_DET_ATL\"\n",
    "]\n",
    "\n",
    "def update_roof(row):\n",
    "    if any(game_id in row['game_id'] for game_id in open_roof):\n",
    "        return \"open\"\n",
    "    if any(game_id in row['game_id'] for game_id in closed_roof):\n",
    "        return \"closed\"\n",
    "    return row['roof']\n",
    "\n",
    "# Apply the function to update 'roof'\n",
    "combined_df.loc[combined_df['roof'].isna(), 'roof'] = combined_df[combined_df['roof'].isna()].apply(update_roof, axis=1)\n",
    "\n"
   ]
  },
  {
   "cell_type": "code",

   "execution_count": 77,
   "metadata": {},
   "outputs": [
    {
     "data": {
      "text/html": [
       "<div>\n",
       "<style scoped>\n",
       "    .dataframe tbody tr th:only-of-type {\n",
       "        vertical-align: middle;\n",
       "    }\n",
       "\n",
       "    .dataframe tbody tr th {\n",
       "        vertical-align: top;\n",
       "    }\n",
       "\n",
       "    .dataframe thead th {\n",
       "        text-align: right;\n",
       "    }\n",
       "</style>\n",
       "<table border=\"1\" class=\"dataframe\">\n",
       "  <thead>\n",
       "    <tr style=\"text-align: right;\">\n",
       "      <th></th>\n",
       "      <th>play_id</th>\n",
       "      <th>old_game_id</th>\n",
       "      <th>home_team</th>\n",
       "      <th>away_team</th>\n",
       "      <th>season_type</th>\n",
       "      <th>week</th>\n",
       "      <th>posteam</th>\n",
       "      <th>posteam_type</th>\n",
       "      <th>defteam</th>\n",
       "      <th>side_of_field</th>\n",
       "      <th>...</th>\n",
       "      <th>out_of_bounds</th>\n",
       "      <th>home_opening_kickoff</th>\n",
       "      <th>qb_epa</th>\n",
       "      <th>xyac_epa</th>\n",
       "      <th>xyac_mean_yardage</th>\n",
       "      <th>xyac_median_yardage</th>\n",
       "      <th>xyac_success</th>\n",
       "      <th>xyac_fd</th>\n",
       "      <th>xpass</th>\n",
       "      <th>pass_oe</th>\n",
       "    </tr>\n",
       "    <tr>\n",
       "      <th>game_id</th>\n",
       "      <th></th>\n",
       "      <th></th>\n",
       "      <th></th>\n",
       "      <th></th>\n",
       "      <th></th>\n",
       "      <th></th>\n",
       "      <th></th>\n",
       "      <th></th>\n",
       "      <th></th>\n",
       "      <th></th>\n",
       "      <th></th>\n",
       "      <th></th>\n",
       "      <th></th>\n",
       "      <th></th>\n",
       "      <th></th>\n",
       "      <th></th>\n",
       "      <th></th>\n",
       "      <th></th>\n",
       "      <th></th>\n",
       "      <th></th>\n",
       "      <th></th>\n",
       "    </tr>\n",
       "  </thead>\n",
       "  <tbody>\n",
       "  </tbody>\n",
       "</table>\n",
       "<p>0 rows × 371 columns</p>\n",
       "</div>"
      ],
      "text/plain": [
       "Empty DataFrame\n",
       "Columns: [play_id, old_game_id, home_team, away_team, season_type, week, posteam, posteam_type, defteam, side_of_field, yardline_100, game_date, quarter_seconds_remaining, half_seconds_remaining, game_seconds_remaining, game_half, quarter_end, drive, sp, qtr, down, goal_to_go, time, yrdln, ydstogo, ydsnet, desc, play_type, yards_gained, shotgun, no_huddle, qb_dropback, qb_kneel, qb_spike, qb_scramble, pass_length, pass_location, air_yards, yards_after_catch, run_location, run_gap, field_goal_result, kick_distance, extra_point_result, two_point_conv_result, home_timeouts_remaining, away_timeouts_remaining, timeout, timeout_team, td_team, td_player_name, td_player_id, posteam_timeouts_remaining, defteam_timeouts_remaining, total_home_score, total_away_score, posteam_score, defteam_score, score_differential, posteam_score_post, defteam_score_post, score_differential_post, no_score_prob, opp_fg_prob, opp_safety_prob, opp_td_prob, fg_prob, safety_prob, td_prob, extra_point_prob, two_point_conversion_prob, ep, epa, total_home_epa, total_away_epa, total_home_rush_epa, total_away_rush_epa, total_home_pass_epa, total_away_pass_epa, air_epa, yac_epa, comp_air_epa, comp_yac_epa, total_home_comp_air_epa, total_away_comp_air_epa, total_home_comp_yac_epa, total_away_comp_yac_epa, total_home_raw_air_epa, total_away_raw_air_epa, total_home_raw_yac_epa, total_away_raw_yac_epa, wp, def_wp, home_wp, away_wp, wpa, vegas_wpa, vegas_home_wpa, home_wp_post, away_wp_post, ...]\n",
       "Index: []\n",
       "\n",
       "[0 rows x 371 columns]"
      ]
     },
     "metadata": {},
     "output_type": "display_data"
    }
   ],
   "source": [
    "display(combined_df[(combined_df['roof'].isna())].groupby('game_id').count())"
   ]
  },
  {
   "cell_type": "code",
   "execution_count": 78,

   "metadata": {},
   "outputs": [],
   "source": [
    "drop_columns1 = [\n",
    "    \"play_id\",\n",
    "    \"game_id\",\n",
    "    \"old_game_id\",\n",
    "    \"home_team\",\n",
    "    \"away_team\",\n",
    "    \"season_type\",\n",
    "    \"week\",\n",
    "    \"defteam\",\n",
    "    \"side_of_field\",\n",
    "    # \"game_date\",\n",
    "    \"quarter_seconds_remaining\",\n",
    "    \"quarter_end\",\n",
    "    \"drive\",\n",
    "    \"sp\",  # eventuell relevant laut TOK\n",
    "    \"qtr\",\n",
    "    \"time\",\n",
    "    \"yrdln\",\n",
    "    \"ydsnet\",\n",
    "    \"qb_kneel\",\n",
    "    \"qb_spike\",\n",
    "    \"pass_length\",\n",
    "    \"pass_location\",\n",
    "    \"run_location\",\n",
    "    \"run_gap\",\n",
    "    \"field_goal_result\",\n",
    "    \"kick_distance\",\n",
    "    \"extra_point_result\",\n",
    "    \"two_point_conv_result\",\n",
    "    \"home_timeouts_remaining\",\n",
    "    \"away_timeouts_remaining\",\n",
    "    \"timeout\",\n",
    "    \"timeout_team\",\n",
    "    \"td_team\",\n",
    "    \"td_player_name\",\n",
    "    \"td_player_id\",\n",
    "    \"posteam_timeouts_remaining\",\n",
    "    \"defteam_timeouts_remaining\",\n",
    "    \"total_home_score\",\n",
    "    \"total_away_score\",\n",
    "    \"posteam_score\",\n",
    "    \"defteam_score\",\n",
    "    \"posteam_score_post\",\n",
    "    \"defteam_score_post\",\n",
    "    \"score_differential_post\",\n",
    "    \"no_score_prob\",\n",
    "    \"opp_fg_prob\",\n",
    "    \"opp_safety_prob\",\n",
    "    \"opp_td_prob\",\n",
    "    \"fg_prob\",\n",
    "    \"safety_prob\",\n",
    "    \"extra_point_prob\",\n",
    "    \"two_point_conversion_prob\",\n",
    "    \"total_home_epa\",\n",
    "    \"total_away_epa\",\n",
    "    \"total_home_rush_epa\",\n",
    "    \"total_away_rush_epa\",\n",
    "    \"total_home_pass_epa\",\n",
    "    \"total_away_pass_epa\",\n",
    "    \"air_epa\",\n",
    "    \"yac_epa\",\n",
    "    \"comp_air_epa\",\n",
    "    \"comp_yac_epa\",\n",
    "    \"total_home_comp_air_epa\",\n",
    "    \"total_away_comp_air_epa\",\n",
    "    \"total_home_comp_yac_epa\",\n",
    "    \"total_away_comp_yac_epa\",\n",
    "    \"total_home_raw_air_epa\",\n",
    "    \"total_away_raw_air_epa\",\n",
    "    \"total_home_raw_yac_epa\",\n",
    "    \"total_away_raw_yac_epa\",\n",
    "    \"def_wp\",\n",
    "    \"home_wp\",\n",
    "    \"away_wp\",\n",
    "    \"vegas_wpa\",\n",
    "    \"vegas_home_wpa\",\n",
    "    \"home_wp_post\",\n",
    "    \"away_wp_post\",\n",
    "    \"vegas_wp\",\n",
    "    \"vegas_home_wp\",\n",
    "    \"total_home_rush_wpa\",\n",
    "    \"total_away_rush_wpa\",\n",
    "    \"total_home_pass_wpa\",\n",
    "    \"total_away_pass_wpa\",\n",
    "    \"air_wpa\",\n",
    "    \"yac_wpa\",\n",
    "    \"comp_air_wpa\",\n",
    "    \"comp_yac_wpa\",\n",
    "    \"total_home_comp_air_wpa\",\n",
    "    \"total_away_comp_air_wpa\",\n",
    "    \"total_home_comp_yac_wpa\",\n",
    "    \"total_away_comp_yac_wpa\",\n",
    "    \"total_home_raw_air_wpa\",\n",
    "    \"total_away_raw_air_wpa\",\n",
    "    \"total_home_raw_yac_wpa\",\n",
    "    \"total_away_raw_yac_wpa\",\n",
    "    \"punt_blocked\",\n",
    "    \"touchback\",\n",
    "]"
   ]
  },
  {
   "cell_type": "code",

   "metadata": {},
   "outputs": [],
   "source": [
    "drop_columns2 = [\n",
    "    \"punt_attempt\",\n",
    "    \"safety_player_name\",\n",
    "    \"punt_inside_twenty\",\n",
    "    \"kicker_player_name\",\n",
    "    \"passing_yards\",\n",
    "    \"interception_player_name\",\n",
    "    \"lateral_kickoff_returner_player_id\",\n",
    "    \"assist_tackle\",\n",
    "    \"qb_hit_2_player_id\",\n",
    "    \"penalty_team\",\n",
    "    \"lateral_receiver_player_name\",\n",
    "    \"lateral_recovery\",\n",
    "    \"wind\",\n",
    "    \"rush_touchdown\",\n",
    "    \"defensive_two_point_conv\",\n",
    "    \"receiver_jersey_number\",\n",
    "    \"tackle_with_assist\",\n",
    "    \"fumbled_1_player_name\",\n",
    "    \"tackle_with_assist_2_player_id\",\n",
    "    \"two_point_attempt\",\n",
    "    \"drive_quarter_start\",\n",
    "    \"lateral_receiving_yards\",\n",
    "    \"end_yard_line\",\n",
    "    \"defensive_extra_point_attempt\",\n",
    "    \"pass_touchdown\",\n",
    "    \"lateral_rusher_player_name\",\n",
    "    \"rusher_id\",\n",
    "    \"aborted_play\",\n",
    "    \"drive_yards_penalized\",\n",
    "    \"fumble_not_forced\",\n",
    "    \"penalty_player_id\",\n",
    "    \"tackle_for_loss_2_player_id\",\n",
    "    \"drive_end_yard_line\",\n",
    "    \"passer_id\",\n",
    "    \"stadium_id\",\n",
    "    \"sack_player_name\",\n",
    "    \"punt_out_of_bounds\",\n",
    "    \"tackle_with_assist_2_team\",\n",
    "    \"surface\",\n",
    "    \"kickoff_downed\",\n",
    "    \"extra_point_attempt\",\n",
    "    \"punt_fair_catch\",\n",
    "    \"assist_tackle_2_player_name\",\n",
    "    \"fumble_forced\",\n",
    "    \"special_teams_play\",\n",
    "    \"drive_ended_with_score\",\n",
    "    \"half_sack_1_player_name\",\n",
    "    \"stadium\",\n",
    "    \"lateral_receiver_player_id\",\n",
    "    \"lateral_sack_player_name\",\n",
    "    \"play\",\n",
    "    \"tackle_with_assist_1_player_id\",\n",
    "    \"forced_fumble_player_2_team\",\n",
    "    \"home_coach\",\n",
    "    \"xyac_epa\",\n",
    "    \"lateral_punt_returner_player_name\",\n",
    "    \"fantasy\",\n",
    "    \"solo_tackle_1_team\",\n",
    "    \"drive_start_transition\",\n",
    "    \"first_down\",\n",
    "    \"game_stadium\",\n",
    "    \"xyac_fd\",\n",
    "    \"drive_play_count\",\n",
    "    \"passer\",\n",
    "    \"fumbled_1_player_id\",\n",
    "    \"replay_or_challenge_result\",\n",
    "    \"drive_real_start_time\",\n",
    "    \"receiver_player_id\",\n",
    "    \"solo_tackle_2_player_id\",\n",
    "    \"fumbled_2_player_name\",\n",
    "    \"qb_hit_1_player_name\",\n",
    "    \"kickoff_attempt\",\n",
    "    \"xyac_success\",\n",
    "    \"season\",\n",
    "    \"rush\",\n",
    "    \"tackle_with_assist_2_player_name\",\n",
    "    \"assist_tackle_2_team\",\n",
    "    \"sack_player_id\",\n",
    "    \"assist_tackle_1_team\",\n",
    "    \"play_deleted\",\n",
    "    \"rusher_jersey_number\",\n",
    "    \"pass_oe\",\n",
    "    \"return_team\",\n",
    "    \"tackle_for_loss_2_player_name\",\n",
    "    \"time_of_day\",\n",
    "    \"end_clock_time\",\n",
    "    \"tackle_with_assist_1_team\",\n",
    "    \"home_score\",\n",
    "    \"tackle_with_assist_1_player_name\",\n",
    "    \"kickoff_inside_twenty\",\n",
    "    \"own_kickoff_recovery_player_id\",\n",
    "    \"lateral_reception\",\n",
    "    \"qb_hit_1_player_id\",\n",
    "    \"own_kickoff_recovery_td\",\n",
    "    \"pass_defense_2_player_name\",\n",
    "    \"jersey_number\",\n",
    "    \"punter_player_name\",\n",
    "    \"blocked_player_name\",\n",
    "    \"pass_defense_1_player_name\",\n",
    "    \"xyac_median_yardage\",\n",
    "    \"st_play_type\",\n",
    "    \"success\",\n",
    "    \"penalty_player_name\",\n",
    "    \"punt_returner_player_name\",\n",
    "    \"return_touchdown\",\n",
    "    \"blocked_player_id\",\n",
    "    \"assist_tackle_1_player_id\",\n",
    "    \"receiving_yards\",\n",
    "    \"half_sack_2_player_name\",\n",
    "    \"drive_game_clock_start\",\n",
    "    \"rusher\",\n",
    "    \"pass_defense_1_player_id\",\n",
    "    \"touchdown\",\n",
    "    \"assist_tackle_4_player_id\",\n",
    "    \"lateral_return\",\n",
    "    \"solo_tackle_2_team\",\n",
    "    \"kickoff_in_endzone\",\n",
    "    \"fumble_out_of_bounds\",\n",
    "    \"return_yards\",\n",
    "    \"punt_downed\",\n",
    "    \"nfl_api_id\",\n",
    "    \"defensive_extra_point_conv\",\n",
    "    \"out_of_bounds\",\n",
    "    \"lateral_interception_player_name\",\n",
    "    \"lateral_rush\",\n",
    "    \"interception_player_id\",\n",
    "    \"assist_tackle_3_player_name\",\n",
    "    \"pass_defense_2_player_id\",\n",
    "    \"receiver_player_name\",\n",
    "    \"away_score\",\n",
    "    \"forced_fumble_player_2_player_name\",\n",
    "    \"qb_hit_2_player_name\",\n",
    "    \"order_sequence\",\n",
    "    \"lateral_rusher_player_id\",\n",
    "    \"punt_returner_player_id\",\n",
    "    \"play_clock\",\n",
    "    \"cpoe\",\n",
    "    \"punt_in_endzone\",\n",
    "    \"fantasy_player_name\",\n",
    "    \"passer_player_name\",\n",
    "    \"xyac_mean_yardage\",\n",
    "    \"fixed_drive\",\n",
    "    \"forced_fumble_player_1_player_name\",\n",
    "    \"lateral_interception_player_id\",\n",
    "    \"solo_tackle\",\n",
    "    \"kickoff_out_of_bounds\",\n",
    "    \"fumbled_2_player_id\",\n",
    "    \"fumbled_1_team\",\n",
    "    \"defensive_two_point_attempt\",\n",
    "    \"spread_line\",\n",
    "    \"drive_game_clock_end\",\n",
    "    \"home_opening_kickoff\",\n",
    "    \"fantasy_id\",\n",
    "    \"forced_fumble_player_1_player_id\",\n",
    "    \"away_coach\",\n",
    "    \"fumbled_2_team\",\n",
    "    \"kickoff_fair_catch\",\n",
    "    \"half_sack_1_player_id\",\n",
    "    \"receiver\",\n",
    "    \"punter_player_id\",\n",
    "    \"xpass\",\n",
    "    \"replay_or_challenge\",\n",
    "    \"rusher_player_name\",\n",
    "    \"pass\",\n",
    "    \"assist_tackle_1_player_name\",\n",
    "    \"fixed_drive_result\",\n",
    "    \"kickoff_returner_player_id\",\n",
    "    \"forced_fumble_player_1_team\",\n",
    "    \"half_sack_2_player_id\",\n",
    "    \"temp\",\n",
    "    \"id\",\n",
    "    \"drive_end_transition\",\n",
    "    \"passer_player_id\",\n",
    "    \"tackle_for_loss_1_player_name\",\n",
    "    \"field_goal_attempt\",\n",
    "    \"lateral_punt_returner_player_id\",\n",
    "    \"play_type_nfl\",\n",
    "    \"drive_first_downs\",\n",
    "    \"result\",\n",
    "    \"receiver_id\",\n",
    "    \"start_time\",\n",
    "    \"name\",\n",
    "    \"rusher_player_id\",\n",
    "    \"passer_jersey_number\",\n",
    "    \"fantasy_player_id\",\n",
    "    \"tackle_for_loss_1_player_id\",\n",
    "    \"own_kickoff_recovery_player_name\",\n",
    "    \"drive_time_of_possession\",\n",
    "    \"forced_fumble_player_2_player_id\",\n",
    "    \"assist_tackle_2_player_id\",\n",
    "    \"own_kickoff_recovery\",\n",
    "    \"solo_tackle_1_player_name\",\n",
    "    \"special\",\n",
    "    \"lateral_sack_player_id\",\n",
    "    \"lateral_rushing_yards\",\n",
    "    \"assist_tackle_3_team\",\n",
    "    \"drive_quarter_end\",\n",
    "    \"location\",\n",
    "    \"total\",\n",
    "    \"rushing_yards\",\n",
    "    \"total_line\",\n",
    "    \"solo_tackle_1_player_id\",\n",
    "    \"assist_tackle_4_player_name\",\n",
    "    \"assist_tackle_4_team\",\n",
    "    \"safety_player_id\",\n",
    "    \"drive_start_yard_line\",\n",
    "    \"kicker_player_id\",\n",
    "    \"assist_tackle_3_player_id\",\n",
    "    \"lateral_kickoff_returner_player_name\",\n",
    "    \"kickoff_returner_player_name\",\n",
    "    \"solo_tackle_2_player_name\",\n",
    "]"
   ]
  },
  {
   "cell_type": "code",
   "metadata": {},
   "outputs": [],
   "source": [
    "drop_columns3 = [\n",
    "    \"drive_inside20\",\n",
    "    \"penalty\",\n",
    "    \"penalty_yards\",\n",
    "    \"penalty_type\",\n",
    "    \"drive_play_id_ended\",\n",
    "    \"drive_play_id_started\",\n",
    "    \"first_down_penalty\",\n",
    "    \"fourth_down_converted\",\n",
    "    \"fourth_down_failed\",\n",
    "    \"fumble_lost\",\n",
    "    \"fumble_recovery_1_player_id\",\n",
    "    \"fumble_recovery_1_player_name\",\n",
    "    \"fumble_recovery_1_team\",\n",
    "    \"fumble_recovery_1_yards\",\n",
    "    \"fumble_recovery_2_player_id\",\n",
    "    \"fumble_recovery_2_player_name\",\n",
    "    \"fumble_recovery_2_team\",\n",
    "    \"fumble_recovery_2_yards\",\n",
    "    \"pass_attempt\",\n",
    "    \"qb_epa\",\n",
    "    \"rush_attempt\",\n",
    "    \"safety\",\n",
    "    \"series_result\",\n",
    "    \"series_success\",\n",
    "    \"third_down_converted\",\n",
    "    \"third_down_failed\",\n",
    "    \"complete_pass\",\n",
    "    \"incomplete_pass\",\n",
    "    \"sack\",\n",
    "    \"tackled_for_loss\",\n",
    "    \"half_seconds_remaining\",\n",
    "    \"game_half\",\n",
    "    # \"weather\",\n",
    "    \"air_yards\",\n",
    "    \"yards_after_catch\",\n",
    "]"
   ]
  },
  {
   "cell_type": "code",

   "metadata": {},
   "outputs": [],
   "source": [
    "drop_columns4 = [\"cp\", \"weather\"]"
   ]
  },
  {
   "cell_type": "code",

   "metadata": {},
   "outputs": [],
   "source": [
    "# drop columns\n",
    "combined_df.drop(drop_columns1, axis=1, inplace=True)\n",
    "combined_df.drop(drop_columns2, axis=1, inplace=True)\n",
    "combined_df.drop(drop_columns3, axis=1, inplace=True)\n",
    "combined_df.drop(drop_columns4, axis=1, inplace=True)"
   ]
  },
  {
   "cell_type": "code",

   "metadata": {},
   "outputs": [
    {
     "data": {
      "text/html": [
       "<div>\n",
       "<style scoped>\n",
       "    .dataframe tbody tr th:only-of-type {\n",
       "        vertical-align: middle;\n",
       "    }\n",
       "\n",
       "    .dataframe tbody tr th {\n",
       "        vertical-align: top;\n",
       "    }\n",
       "\n",
       "    .dataframe thead th {\n",
       "        text-align: right;\n",
       "    }\n",
       "</style>\n",
       "<table border=\"1\" class=\"dataframe\">\n",
       "  <thead>\n",
       "    <tr style=\"text-align: right;\">\n",
       "      <th></th>\n",
       "      <th>posteam</th>\n",
       "      <th>posteam_type</th>\n",
       "      <th>yardline_100</th>\n",
       "      <th>game_date</th>\n",
       "      <th>game_seconds_remaining</th>\n",
       "      <th>down</th>\n",
       "      <th>goal_to_go</th>\n",
       "      <th>ydstogo</th>\n",
       "      <th>desc</th>\n",
       "      <th>play_type</th>\n",
       "      <th>yards_gained</th>\n",
       "      <th>shotgun</th>\n",
       "      <th>no_huddle</th>\n",
       "      <th>qb_dropback</th>\n",
       "      <th>qb_scramble</th>\n",
       "      <th>score_differential</th>\n",
       "      <th>td_prob</th>\n",
       "      <th>ep</th>\n",
       "      <th>epa</th>\n",
       "      <th>wp</th>\n",
       "      <th>wpa</th>\n",
       "      <th>first_down_rush</th>\n",
       "      <th>first_down_pass</th>\n",
       "      <th>interception</th>\n",
       "      <th>qb_hit</th>\n",
       "      <th>fumble</th>\n",
       "      <th>series</th>\n",
       "      <th>div_game</th>\n",
       "      <th>roof</th>\n",
       "    </tr>\n",
       "  </thead>\n",
       "  <tbody>\n",
       "    <tr>\n",
       "      <th>0</th>\n",
       "      <td>PHI</td>\n",
       "      <td>home</td>\n",
       "      <td>77.0</td>\n",
       "      <td>1999-09-12</td>\n",
       "      <td>3600.0</td>\n",
       "      <td>1.0</td>\n",
       "      <td>0.0</td>\n",
       "      <td>10</td>\n",
       "      <td>(15:00) D.Pederson pass incomplete to D.Staley...</td>\n",
       "      <td>pass</td>\n",
       "      <td>0.0</td>\n",
       "      <td>0</td>\n",
       "      <td>0</td>\n",
       "      <td>1.0</td>\n",
       "      <td>0</td>\n",
       "      <td>0.0</td>\n",
       "      <td>0.342473</td>\n",
       "      <td>0.764706</td>\n",
       "      <td>-0.561568</td>\n",
       "      <td>0.546969</td>\n",
       "      <td>-0.018228</td>\n",
       "      <td>0.0</td>\n",
       "      <td>0.0</td>\n",
       "      <td>0.0</td>\n",
       "      <td>0.0</td>\n",
       "      <td>0.0</td>\n",
       "      <td>1</td>\n",
       "      <td>1</td>\n",
       "      <td>outdoors</td>\n",
       "    </tr>\n",
       "    <tr>\n",
       "      <th>1</th>\n",
       "      <td>PHI</td>\n",
       "      <td>home</td>\n",
       "      <td>77.0</td>\n",
       "      <td>1999-09-12</td>\n",
       "      <td>3600.0</td>\n",
       "      <td>2.0</td>\n",
       "      <td>0.0</td>\n",
       "      <td>10</td>\n",
       "      <td>(15:00) D.Staley up the middle to PHI 24 for 1...</td>\n",
       "      <td>run</td>\n",
       "      <td>1.0</td>\n",
       "      <td>0</td>\n",
       "      <td>0</td>\n",
       "      <td>0.0</td>\n",
       "      <td>0</td>\n",
       "      <td>0.0</td>\n",
       "      <td>0.310568</td>\n",
       "      <td>0.203138</td>\n",
       "      <td>-0.641717</td>\n",
       "      <td>0.528741</td>\n",
       "      <td>-0.030422</td>\n",
       "      <td>0.0</td>\n",
       "      <td>0.0</td>\n",
       "      <td>0.0</td>\n",
       "      <td>0.0</td>\n",
       "      <td>0.0</td>\n",
       "      <td>1</td>\n",
       "      <td>1</td>\n",
       "      <td>outdoors</td>\n",
       "    </tr>\n",
       "    <tr>\n",
       "      <th>2</th>\n",
       "      <td>PHI</td>\n",
       "      <td>home</td>\n",
       "      <td>81.0</td>\n",
       "      <td>1999-09-12</td>\n",
       "      <td>3600.0</td>\n",
       "      <td>3.0</td>\n",
       "      <td>0.0</td>\n",
       "      <td>14</td>\n",
       "      <td>(15:00) D.Pederson pass to B.Finneran to PHI 2...</td>\n",
       "      <td>pass</td>\n",
       "      <td>10.0</td>\n",
       "      <td>0</td>\n",
       "      <td>0</td>\n",
       "      <td>1.0</td>\n",
       "      <td>0</td>\n",
       "      <td>0.0</td>\n",
       "      <td>0.224716</td>\n",
       "      <td>-1.161881</td>\n",
       "      <td>0.212661</td>\n",
       "      <td>0.490872</td>\n",
       "      <td>-0.006659</td>\n",
       "      <td>0.0</td>\n",
       "      <td>0.0</td>\n",
       "      <td>0.0</td>\n",
       "      <td>0.0</td>\n",
       "      <td>0.0</td>\n",
       "      <td>1</td>\n",
       "      <td>1</td>\n",
       "      <td>outdoors</td>\n",
       "    </tr>\n",
       "    <tr>\n",
       "      <th>3</th>\n",
       "      <td>ARI</td>\n",
       "      <td>away</td>\n",
       "      <td>81.0</td>\n",
       "      <td>1999-09-12</td>\n",
       "      <td>3487.0</td>\n",
       "      <td>1.0</td>\n",
       "      <td>0.0</td>\n",
       "      <td>10</td>\n",
       "      <td>(13:07) A.Murrell right end to ARI 20 for 1 ya...</td>\n",
       "      <td>run</td>\n",
       "      <td>1.0</td>\n",
       "      <td>0</td>\n",
       "      <td>0</td>\n",
       "      <td>0.0</td>\n",
       "      <td>0</td>\n",
       "      <td>0.0</td>\n",
       "      <td>0.279041</td>\n",
       "      <td>-0.078607</td>\n",
       "      <td>-0.392644</td>\n",
       "      <td>0.482290</td>\n",
       "      <td>-0.010499</td>\n",
       "      <td>0.0</td>\n",
       "      <td>0.0</td>\n",
       "      <td>0.0</td>\n",
       "      <td>0.0</td>\n",
       "      <td>0.0</td>\n",
       "      <td>2</td>\n",
       "      <td>1</td>\n",
       "      <td>outdoors</td>\n",
       "    </tr>\n",
       "    <tr>\n",
       "      <th>4</th>\n",
       "      <td>ARI</td>\n",
       "      <td>away</td>\n",
       "      <td>80.0</td>\n",
       "      <td>1999-09-12</td>\n",
       "      <td>3487.0</td>\n",
       "      <td>2.0</td>\n",
       "      <td>0.0</td>\n",
       "      <td>9</td>\n",
       "      <td>(13:07) A.Murrell up the middle to ARI 24 for ...</td>\n",
       "      <td>run</td>\n",
       "      <td>4.0</td>\n",
       "      <td>0</td>\n",
       "      <td>0</td>\n",
       "      <td>0.0</td>\n",
       "      <td>0</td>\n",
       "      <td>0.0</td>\n",
       "      <td>0.254127</td>\n",
       "      <td>-0.471251</td>\n",
       "      <td>-0.302914</td>\n",
       "      <td>0.471791</td>\n",
       "      <td>-0.010026</td>\n",
       "      <td>0.0</td>\n",
       "      <td>0.0</td>\n",
       "      <td>0.0</td>\n",
       "      <td>0.0</td>\n",
       "      <td>0.0</td>\n",
       "      <td>2</td>\n",
       "      <td>1</td>\n",
       "      <td>outdoors</td>\n",
       "    </tr>\n",
       "    <tr>\n",
       "      <th>5</th>\n",
       "      <td>ARI</td>\n",
       "      <td>away</td>\n",
       "      <td>76.0</td>\n",
       "      <td>1999-09-12</td>\n",
       "      <td>3487.0</td>\n",
       "      <td>3.0</td>\n",
       "      <td>0.0</td>\n",
       "      <td>5</td>\n",
       "      <td>(13:07) J.Plummer pass incomplete to F.Sanders.</td>\n",
       "      <td>pass</td>\n",
       "      <td>0.0</td>\n",
       "      <td>0</td>\n",
       "      <td>0</td>\n",
       "      <td>1.0</td>\n",
       "      <td>0</td>\n",
       "      <td>0.0</td>\n",
       "      <td>0.234744</td>\n",
       "      <td>-0.774165</td>\n",
       "      <td>-1.338036</td>\n",
       "      <td>0.461765</td>\n",
       "      <td>-0.038263</td>\n",
       "      <td>0.0</td>\n",
       "      <td>0.0</td>\n",
       "      <td>0.0</td>\n",
       "      <td>0.0</td>\n",
       "      <td>0.0</td>\n",
       "      <td>2</td>\n",
       "      <td>1</td>\n",
       "      <td>outdoors</td>\n",
       "    </tr>\n",
       "    <tr>\n",
       "      <th>6</th>\n",
       "      <td>PHI</td>\n",
       "      <td>home</td>\n",
       "      <td>59.0</td>\n",
       "      <td>1999-09-12</td>\n",
       "      <td>3388.0</td>\n",
       "      <td>1.0</td>\n",
       "      <td>0.0</td>\n",
       "      <td>10</td>\n",
       "      <td>(11:28) D.Staley left tackle to PHI 48 for 7 y...</td>\n",
       "      <td>run</td>\n",
       "      <td>7.0</td>\n",
       "      <td>0</td>\n",
       "      <td>0</td>\n",
       "      <td>0.0</td>\n",
       "      <td>0</td>\n",
       "      <td>0.0</td>\n",
       "      <td>0.402300</td>\n",
       "      <td>2.043952</td>\n",
       "      <td>0.361135</td>\n",
       "      <td>0.572573</td>\n",
       "      <td>0.013275</td>\n",
       "      <td>0.0</td>\n",
       "      <td>0.0</td>\n",
       "      <td>0.0</td>\n",
       "      <td>0.0</td>\n",
       "      <td>0.0</td>\n",
       "      <td>3</td>\n",
       "      <td>1</td>\n",
       "      <td>outdoors</td>\n",
       "    </tr>\n",
       "    <tr>\n",
       "      <th>7</th>\n",
       "      <td>PHI</td>\n",
       "      <td>home</td>\n",
       "      <td>52.0</td>\n",
       "      <td>1999-09-12</td>\n",
       "      <td>3388.0</td>\n",
       "      <td>2.0</td>\n",
       "      <td>0.0</td>\n",
       "      <td>3</td>\n",
       "      <td>(11:28) D.Pederson pass to C.Johnson pushed ob...</td>\n",
       "      <td>pass</td>\n",
       "      <td>15.0</td>\n",
       "      <td>0</td>\n",
       "      <td>0</td>\n",
       "      <td>1.0</td>\n",
       "      <td>0</td>\n",
       "      <td>0.0</td>\n",
       "      <td>0.427834</td>\n",
       "      <td>2.405087</td>\n",
       "      <td>0.999928</td>\n",
       "      <td>0.585848</td>\n",
       "      <td>0.046527</td>\n",
       "      <td>0.0</td>\n",
       "      <td>1.0</td>\n",
       "      <td>0.0</td>\n",
       "      <td>0.0</td>\n",
       "      <td>0.0</td>\n",
       "      <td>3</td>\n",
       "      <td>1</td>\n",
       "      <td>outdoors</td>\n",
       "    </tr>\n",
       "    <tr>\n",
       "      <th>8</th>\n",
       "      <td>PHI</td>\n",
       "      <td>home</td>\n",
       "      <td>37.0</td>\n",
       "      <td>1999-09-12</td>\n",
       "      <td>3388.0</td>\n",
       "      <td>1.0</td>\n",
       "      <td>0.0</td>\n",
       "      <td>10</td>\n",
       "      <td>(11:28) K.Turner up the middle to ARI 36 for 1...</td>\n",
       "      <td>run</td>\n",
       "      <td>1.0</td>\n",
       "      <td>0</td>\n",
       "      <td>0</td>\n",
       "      <td>0.0</td>\n",
       "      <td>0</td>\n",
       "      <td>0.0</td>\n",
       "      <td>0.462421</td>\n",
       "      <td>3.405015</td>\n",
       "      <td>-0.405522</td>\n",
       "      <td>0.632376</td>\n",
       "      <td>-0.014583</td>\n",
       "      <td>0.0</td>\n",
       "      <td>0.0</td>\n",
       "      <td>0.0</td>\n",
       "      <td>0.0</td>\n",
       "      <td>0.0</td>\n",
       "      <td>4</td>\n",
       "      <td>1</td>\n",
       "      <td>outdoors</td>\n",
       "    </tr>\n",
       "    <tr>\n",
       "      <th>9</th>\n",
       "      <td>PHI</td>\n",
       "      <td>home</td>\n",
       "      <td>36.0</td>\n",
       "      <td>1999-09-12</td>\n",
       "      <td>3388.0</td>\n",
       "      <td>2.0</td>\n",
       "      <td>0.0</td>\n",
       "      <td>9</td>\n",
       "      <td>(11:28) D.Pederson pass to D.Jells to ARI 30 f...</td>\n",
       "      <td>pass</td>\n",
       "      <td>6.0</td>\n",
       "      <td>0</td>\n",
       "      <td>0</td>\n",
       "      <td>1.0</td>\n",
       "      <td>0</td>\n",
       "      <td>0.0</td>\n",
       "      <td>0.416372</td>\n",
       "      <td>2.999493</td>\n",
       "      <td>0.026725</td>\n",
       "      <td>0.617792</td>\n",
       "      <td>-0.008916</td>\n",
       "      <td>0.0</td>\n",
       "      <td>0.0</td>\n",
       "      <td>0.0</td>\n",
       "      <td>0.0</td>\n",
       "      <td>0.0</td>\n",
       "      <td>4</td>\n",
       "      <td>1</td>\n",
       "      <td>outdoors</td>\n",
       "    </tr>\n",
       "  </tbody>\n",
       "</table>\n",
       "</div>"
      ],
      "text/plain": [
       "  posteam posteam_type  yardline_100   game_date  game_seconds_remaining  \\\n",
       "0     PHI         home          77.0  1999-09-12                  3600.0   \n",
       "1     PHI         home          77.0  1999-09-12                  3600.0   \n",
       "2     PHI         home          81.0  1999-09-12                  3600.0   \n",
       "3     ARI         away          81.0  1999-09-12                  3487.0   \n",
       "4     ARI         away          80.0  1999-09-12                  3487.0   \n",
       "5     ARI         away          76.0  1999-09-12                  3487.0   \n",
       "6     PHI         home          59.0  1999-09-12                  3388.0   \n",
       "7     PHI         home          52.0  1999-09-12                  3388.0   \n",
       "8     PHI         home          37.0  1999-09-12                  3388.0   \n",
       "9     PHI         home          36.0  1999-09-12                  3388.0   \n",
       "\n",
       "   down  goal_to_go  ydstogo  \\\n",
       "0   1.0         0.0       10   \n",
       "1   2.0         0.0       10   \n",
       "2   3.0         0.0       14   \n",
       "3   1.0         0.0       10   \n",
       "4   2.0         0.0        9   \n",
       "5   3.0         0.0        5   \n",
       "6   1.0         0.0       10   \n",
       "7   2.0         0.0        3   \n",
       "8   1.0         0.0       10   \n",
       "9   2.0         0.0        9   \n",
       "\n",
       "                                                desc play_type  yards_gained  \\\n",
       "0  (15:00) D.Pederson pass incomplete to D.Staley...      pass           0.0   \n",
       "1  (15:00) D.Staley up the middle to PHI 24 for 1...       run           1.0   \n",
       "2  (15:00) D.Pederson pass to B.Finneran to PHI 2...      pass          10.0   \n",
       "3  (13:07) A.Murrell right end to ARI 20 for 1 ya...       run           1.0   \n",
       "4  (13:07) A.Murrell up the middle to ARI 24 for ...       run           4.0   \n",
       "5    (13:07) J.Plummer pass incomplete to F.Sanders.      pass           0.0   \n",
       "6  (11:28) D.Staley left tackle to PHI 48 for 7 y...       run           7.0   \n",
       "7  (11:28) D.Pederson pass to C.Johnson pushed ob...      pass          15.0   \n",
       "8  (11:28) K.Turner up the middle to ARI 36 for 1...       run           1.0   \n",
       "9  (11:28) D.Pederson pass to D.Jells to ARI 30 f...      pass           6.0   \n",
       "\n",
       "   shotgun  no_huddle  qb_dropback  qb_scramble  score_differential   td_prob  \\\n",
       "0        0          0          1.0            0                 0.0  0.342473   \n",
       "1        0          0          0.0            0                 0.0  0.310568   \n",
       "2        0          0          1.0            0                 0.0  0.224716   \n",
       "3        0          0          0.0            0                 0.0  0.279041   \n",
       "4        0          0          0.0            0                 0.0  0.254127   \n",
       "5        0          0          1.0            0                 0.0  0.234744   \n",
       "6        0          0          0.0            0                 0.0  0.402300   \n",
       "7        0          0          1.0            0                 0.0  0.427834   \n",
       "8        0          0          0.0            0                 0.0  0.462421   \n",
       "9        0          0          1.0            0                 0.0  0.416372   \n",
       "\n",
       "         ep       epa        wp       wpa  first_down_rush  first_down_pass  \\\n",
       "0  0.764706 -0.561568  0.546969 -0.018228              0.0              0.0   \n",
       "1  0.203138 -0.641717  0.528741 -0.030422              0.0              0.0   \n",
       "2 -1.161881  0.212661  0.490872 -0.006659              0.0              0.0   \n",
       "3 -0.078607 -0.392644  0.482290 -0.010499              0.0              0.0   \n",
       "4 -0.471251 -0.302914  0.471791 -0.010026              0.0              0.0   \n",
       "5 -0.774165 -1.338036  0.461765 -0.038263              0.0              0.0   \n",
       "6  2.043952  0.361135  0.572573  0.013275              0.0              0.0   \n",
       "7  2.405087  0.999928  0.585848  0.046527              0.0              1.0   \n",
       "8  3.405015 -0.405522  0.632376 -0.014583              0.0              0.0   \n",
       "9  2.999493  0.026725  0.617792 -0.008916              0.0              0.0   \n",
       "\n",
       "   interception  qb_hit  fumble  series  div_game      roof  \n",
       "0           0.0     0.0     0.0       1         1  outdoors  \n",
       "1           0.0     0.0     0.0       1         1  outdoors  \n",
       "2           0.0     0.0     0.0       1         1  outdoors  \n",
       "3           0.0     0.0     0.0       2         1  outdoors  \n",
       "4           0.0     0.0     0.0       2         1  outdoors  \n",
       "5           0.0     0.0     0.0       2         1  outdoors  \n",
       "6           0.0     0.0     0.0       3         1  outdoors  \n",
       "7           0.0     0.0     0.0       3         1  outdoors  \n",
       "8           0.0     0.0     0.0       4         1  outdoors  \n",
       "9           0.0     0.0     0.0       4         1  outdoors  "
      ]
     },
     "metadata": {},
     "output_type": "display_data"
    }
   ],
   "source": [
    "pd.set_option(\"display.max_columns\", None)\n",
    "pd.set_option(\"display.max_rows\", None)\n",
    "display(combined_df.head(10))\n",
    "pd.reset_option(\"display.max_columns\")\n",
    "pd.reset_option(\"display.max_rows\")"
   ]
  },
  {
   "cell_type": "code",

   "metadata": {},
   "outputs": [
    {
     "data": {
      "text/plain": [
       "(797532, 29)"
      ]
     },

     "metadata": {},
     "output_type": "execute_result"
    }
   ],
   "source": [
    "combined_df.shape"
   ]
  },
  {
   "cell_type": "code",

   "metadata": {},
   "outputs": [
    {
     "data": {
      "text/plain": [
       "False"
      ]
     },

     "metadata": {},
     "output_type": "execute_result"
    }
   ],
   "source": [
    "combined_df[\"game_date\"][0] > \"2009-08-01\""
   ]
  },
  {
   "cell_type": "code",
   "metadata": {},
   "outputs": [],
   "source": [
    "df = combined_df_copy[:10000]"
   ]
  },
  {
   "cell_type": "markdown",
   "metadata": {},
   "source": []
  },
  {
   "cell_type": "code",

   "metadata": {},
   "outputs": [
    {
     "name": "stdout",
     "output_type": "stream",
     "text": [
      "1999: (8421, 29)\n",
      "2000: (10034, 29)\n",
      "2001: (8708, 29)\n",
      "2002: (10580, 29)\n",
      "2003: (9597, 29)\n",
      "2004: (9039, 29)\n",
      "2005: (9736, 29)\n",
      "2006: (10017, 29)\n",
      "2007: (10196, 29)\n",
      "2008: (9881, 29)\n",
      "2009: (9517, 29)\n",
      "2010: (10221, 29)\n",
      "2011: (10120, 29)\n",
      "2012: (11235, 29)\n",
      "2013: (10756, 29)\n",
      "2014: (10800, 29)\n",
      "2015: (10482, 29)\n",
      "2016: (11175, 29)\n",
      "2017: (11162, 29)\n",
      "2018: (11081, 29)\n",
      "2019: (10924, 29)\n",
      "2020: (10690, 29)\n",
      "2021: (11263, 29)\n",
      "2022: (11541, 29)\n",
      "2023: (6709, 29)\n"
     ]
    }
   ],
   "source": [
    "for year in list(range(1999, 2024)):\n",
    "    print(\n",
    "        f\"{year}: {combined_df[(combined_df['play_type'] == 'pass') & (combined_df['yards_gained'] > 0) & (combined_df['game_date'] >= str(year)) & (combined_df['game_date'] < str(year + 1))].shape}\"\n",
    "    )"
   ]
  },
  {
   "cell_type": "code",

   "metadata": {},
   "outputs": [
    {
     "name": "stdout",
     "output_type": "stream",
     "text": [
      "posteam: 1\n",
      "posteam_type: 0\n",
      "yardline_100: 0\n",
      "game_date: 0\n",
      "game_seconds_remaining: 1\n",
      "down: 1\n",
      "goal_to_go: 2\n",
      "ydstogo: 0\n",
      "desc: 0\n",
      "play_type: 0\n",
      "yards_gained: 0\n",
      "shotgun: 0\n",
      "no_huddle: 0\n",
      "qb_dropback: 0\n",
      "qb_scramble: 0\n",
      "score_differential: 0\n",
      "td_prob: 0\n",
      "ep: 11\n",
      "epa: 13\n",
      "wp: 11\n",
      "wpa: 15\n",
      "first_down_rush: 0\n",
      "first_down_pass: 0\n",
      "interception: 0\n",
      "qb_hit: 0\n",
      "fumble: 0\n",
      "series: 0\n",
      "div_game: 0\n",
      "roof: 0\n"
     ]
    }
   ],
   "source": [
    "# detect NAs\n",
    "for column in combined_df.columns:\n",
    "    print(f\"{column}: {sum(combined_df[column].isna())}\")"
   ]
  },
  {
   "cell_type": "code",

   "execution_count": 95,
   "metadata": {},
   "outputs": [],
   "source": [
    "combined_df = combined_df.dropna()"
   ]
  },
  {
   "cell_type": "code",
   "execution_count": 96,

   "metadata": {},
   "outputs": [
    {
     "name": "stdout",
     "output_type": "stream",
     "text": [
      "posteam: 0\n",
      "posteam_type: 0\n",
      "yardline_100: 0\n",
      "game_date: 0\n",
      "game_seconds_remaining: 0\n",
      "down: 0\n",
      "goal_to_go: 0\n",
      "ydstogo: 0\n",
      "desc: 0\n",
      "play_type: 0\n",
      "yards_gained: 0\n",
      "shotgun: 0\n",
      "no_huddle: 0\n",
      "qb_dropback: 0\n",
      "qb_scramble: 0\n",
      "score_differential: 0\n",
      "td_prob: 0\n",
      "ep: 0\n",
      "epa: 0\n",
      "wp: 0\n",
      "wpa: 0\n",
      "first_down_rush: 0\n",
      "first_down_pass: 0\n",
      "interception: 0\n",
      "qb_hit: 0\n",
      "fumble: 0\n",
      "series: 0\n",
      "div_game: 0\n",
      "roof: 0\n"
     ]
    }
   ],
   "source": [
    "for column in combined_df.columns:\n",
    "    print(f\"{column}: {sum(combined_df[column].isna())}\")"
   ]
  },
  {
   "cell_type": "code",
   "execution_count": 97,
   "metadata": {},
   "outputs": [
    {
     "name": "stdout",
     "output_type": "stream",
     "text": [
      "1999: (0, 29)\n",
      "2000: (0, 29)\n",
      "2001: (0, 29)\n",
      "2002: (0, 29)\n",
      "2003: (0, 29)\n",
      "2004: (0, 29)\n",
      "2005: (0, 29)\n",
      "2006: (0, 29)\n",
      "2007: (0, 29)\n",
      "2008: (0, 29)\n",
      "2009: (0, 29)\n",
      "2010: (0, 29)\n",
      "2011: (0, 29)\n",
      "2012: (0, 29)\n",
      "2013: (0, 29)\n",
      "2014: (0, 29)\n",
      "2015: (0, 29)\n",
      "2016: (0, 29)\n",
      "2017: (0, 29)\n",
      "2018: (0, 29)\n",
      "2019: (0, 29)\n",
      "2020: (0, 29)\n",
      "2021: (0, 29)\n",
      "2022: (0, 29)\n",
      "2023: (0, 29)\n"
     ]
    }
   ],
   "source": [
    "for year in list(range(1999, 2024)):\n",
    "    print(\n",
    "        f\"{year}: {combined_df[(combined_df['down'].isna()) & (combined_df['game_date'] >= str(year)) & (combined_df['game_date'] < str(year + 1))].shape}\"\n",
    "        )"
   ]
  },
  {
   "cell_type": "code",

   "metadata": {},
   "outputs": [
    {
     "name": "stdout",
     "output_type": "stream",
     "text": [
      "1999: (0, 29)\n",
      "2000: (0, 29)\n",
      "2001: (0, 29)\n",
      "2002: (0, 29)\n",
      "2003: (0, 29)\n",
      "2004: (0, 29)\n",
      "2005: (0, 29)\n",
      "2006: (0, 29)\n",
      "2007: (0, 29)\n",
      "2008: (0, 29)\n",
      "2009: (0, 29)\n",
      "2010: (0, 29)\n",
      "2011: (0, 29)\n",
      "2012: (0, 29)\n",
      "2013: (0, 29)\n",
      "2014: (0, 29)\n",
      "2015: (0, 29)\n",
      "2016: (0, 29)\n",
      "2017: (0, 29)\n",
      "2018: (0, 29)\n",
      "2019: (0, 29)\n",
      "2020: (0, 29)\n",
      "2021: (0, 29)\n",
      "2022: (0, 29)\n",
      "2023: (0, 29)\n"
     ]
    }
   ],
   "source": [
    "for year in list(range(1999, 2024)):\n",
    "    print(\n",
    "        f\"{year}: {combined_df[(combined_df['roof'].isna()) & (combined_df['game_date'] >= str(year)) & (combined_df['game_date'] < str(year + 1))].shape}\"\n",
    "    )"
   ]
  },
  {
   "cell_type": "code",

   "metadata": {},
   "outputs": [
    {
     "data": {
      "text/html": [
       "<div>\n",
       "<style scoped>\n",
       "    .dataframe tbody tr th:only-of-type {\n",
       "        vertical-align: middle;\n",
       "    }\n",
       "\n",
       "    .dataframe tbody tr th {\n",
       "        vertical-align: top;\n",
       "    }\n",
       "\n",
       "    .dataframe thead th {\n",
       "        text-align: right;\n",
       "    }\n",
       "</style>\n",
       "<table border=\"1\" class=\"dataframe\">\n",
       "  <thead>\n",
       "    <tr style=\"text-align: right;\">\n",
       "      <th></th>\n",
       "      <th>posteam</th>\n",
       "      <th>posteam_type</th>\n",
       "      <th>yardline_100</th>\n",
       "      <th>game_date</th>\n",
       "      <th>game_seconds_remaining</th>\n",
       "      <th>down</th>\n",
       "      <th>goal_to_go</th>\n",
       "      <th>ydstogo</th>\n",
       "      <th>desc</th>\n",
       "      <th>play_type</th>\n",
       "      <th>...</th>\n",
       "      <th>epa</th>\n",
       "      <th>wp</th>\n",
       "      <th>wpa</th>\n",
       "      <th>first_down_rush</th>\n",
       "      <th>first_down_pass</th>\n",
       "      <th>interception</th>\n",
       "      <th>qb_hit</th>\n",
       "      <th>fumble</th>\n",
       "      <th>series</th>\n",
       "      <th>div_game</th>\n",
       "    </tr>\n",
       "    <tr>\n",
       "      <th>roof</th>\n",
       "      <th></th>\n",
       "      <th></th>\n",
       "      <th></th>\n",
       "      <th></th>\n",
       "      <th></th>\n",
       "      <th></th>\n",
       "      <th></th>\n",
       "      <th></th>\n",
       "      <th></th>\n",
       "      <th></th>\n",
       "      <th></th>\n",
       "      <th></th>\n",
       "      <th></th>\n",
       "      <th></th>\n",
       "      <th></th>\n",
       "      <th></th>\n",
       "      <th></th>\n",
       "      <th></th>\n",
       "      <th></th>\n",
       "      <th></th>\n",
       "      <th></th>\n",
       "    </tr>\n",
       "  </thead>\n",
       "  <tbody>\n",
       "    <tr>\n",
       "      <th>closed</th>\n",

       "      <td>63202</td>\n",
       "      <td>63202</td>\n",
       "      <td>63202</td>\n",
       "      <td>63202</td>\n",
       "      <td>63202</td>\n",
       "      <td>63202</td>\n",
       "      <td>63202</td>\n",
       "      <td>63202</td>\n",
       "      <td>63202</td>\n",
       "      <td>63202</td>\n",
       "      <td>...</td>\n",
       "      <td>63202</td>\n",
       "      <td>63202</td>\n",
       "      <td>63202</td>\n",
       "      <td>63202</td>\n",
       "      <td>63202</td>\n",
       "      <td>63202</td>\n",
       "      <td>63202</td>\n",
       "      <td>63202</td>\n",
       "      <td>63202</td>\n",
       "      <td>63202</td>\n",
       "    </tr>\n",
       "    <tr>\n",
       "      <th>dome</th>\n",
       "      <td>128467</td>\n",
       "      <td>128467</td>\n",
       "      <td>128467</td>\n",
       "      <td>128467</td>\n",
       "      <td>128467</td>\n",
       "      <td>128467</td>\n",
       "      <td>128467</td>\n",
       "      <td>128467</td>\n",
       "      <td>128467</td>\n",
       "      <td>128467</td>\n",
       "      <td>...</td>\n",
       "      <td>128467</td>\n",
       "      <td>128467</td>\n",
       "      <td>128467</td>\n",
       "      <td>128467</td>\n",
       "      <td>128467</td>\n",
       "      <td>128467</td>\n",
       "      <td>128467</td>\n",
       "      <td>128467</td>\n",
       "      <td>128467</td>\n",
       "      <td>128467</td>\n",
       "    </tr>\n",
       "    <tr>\n",
       "      <th>open</th>\n",
       "      <td>15005</td>\n",
       "      <td>15005</td>\n",
       "      <td>15005</td>\n",
       "      <td>15005</td>\n",
       "      <td>15005</td>\n",
       "      <td>15005</td>\n",
       "      <td>15005</td>\n",
       "      <td>15005</td>\n",
       "      <td>15005</td>\n",
       "      <td>15005</td>\n",
       "      <td>...</td>\n",
       "      <td>15005</td>\n",
       "      <td>15005</td>\n",
       "      <td>15005</td>\n",
       "      <td>15005</td>\n",
       "      <td>15005</td>\n",
       "      <td>15005</td>\n",
       "      <td>15005</td>\n",
       "      <td>15005</td>\n",
       "      <td>15005</td>\n",
       "      <td>15005</td>\n",
       "    </tr>\n",
       "    <tr>\n",
       "      <th>outdoors</th>\n",
       "      <td>592416</td>\n",
       "      <td>592416</td>\n",
       "      <td>592416</td>\n",
       "      <td>592416</td>\n",
       "      <td>592416</td>\n",
       "      <td>592416</td>\n",
       "      <td>592416</td>\n",
       "      <td>592416</td>\n",
       "      <td>592416</td>\n",
       "      <td>592416</td>\n",
       "      <td>...</td>\n",
       "      <td>592416</td>\n",
       "      <td>592416</td>\n",
       "      <td>592416</td>\n",
       "      <td>592416</td>\n",
       "      <td>592416</td>\n",
       "      <td>592416</td>\n",
       "      <td>592416</td>\n",
       "      <td>592416</td>\n",
       "      <td>592416</td>\n",
       "      <td>592416</td>\n",

   
       "    </tr>\n",
       "  </tbody>\n",
       "</table>\n",
       "<p>4 rows × 28 columns</p>\n",
       "</div>"
      ],
      "text/plain": [
       "          posteam  posteam_type  yardline_100  game_date  \\\n",
       "roof                                                       \n",

       "closed      63202         63202         63202      63202   \n",
       "dome       128467        128467        128467     128467   \n",
       "open        15005         15005         15005      15005   \n",
       "outdoors   592416        592416        592416     592416   \n",
       "\n",
       "          game_seconds_remaining    down  goal_to_go  ydstogo    desc  \\\n",
       "roof                                                                    \n",
       "closed                     63202   63202       63202    63202   63202   \n",
       "dome                      128467  128467      128467   128467  128467   \n",
       "open                       15005   15005       15005    15005   15005   \n",
       "outdoors                  592416  592416      592416   592416  592416   \n",
       "\n",
       "          play_type  ...     epa      wp     wpa  first_down_rush  \\\n",
       "roof                 ...                                            \n",
       "closed        63202  ...   63202   63202   63202            63202   \n",
       "dome         128467  ...  128467  128467  128467           128467   \n",
       "open          15005  ...   15005   15005   15005            15005   \n",
       "outdoors     592416  ...  592416  592416  592416           592416   \n",
       "\n",
       "          first_down_pass  interception  qb_hit  fumble  series  div_game  \n",
       "roof                                                                       \n",
       "closed              63202         63202   63202   63202   63202     63202  \n",
       "dome               128467        128467  128467  128467  128467    128467  \n",
       "open                15005         15005   15005   15005   15005     15005  \n",
       "outdoors           592416        592416  592416  592416  592416    592416  \n",

       "\n",
       "[4 rows x 28 columns]"
      ]
     },
     "metadata": {},
     "output_type": "display_data"
    }
   ],
   "source": [
    "display(combined_df.groupby(\"roof\").count())"
   ]
  },
  {
   "cell_type": "code",
   "execution_count": 100,
   "metadata": {},
   "outputs": [
    {
     "ename": "ValueError",
     "evalue": "Mime type rendering requires nbformat>=4.2.0 but it is not installed",
     "output_type": "error",
     "traceback": [
      "\u001b[1;31m---------------------------------------------------------------------------\u001b[0m",
      "\u001b[1;31mValueError\u001b[0m                                Traceback (most recent call last)",
      "File \u001b[1;32m~\\AppData\\Roaming\\Python\\Python311\\site-packages\\IPython\\core\\formatters.py:922\u001b[0m, in \u001b[0;36mIPythonDisplayFormatter.__call__\u001b[1;34m(self, obj)\u001b[0m\n\u001b[0;32m    920\u001b[0m method \u001b[39m=\u001b[39m get_real_method(obj, \u001b[39mself\u001b[39m\u001b[39m.\u001b[39mprint_method)\n\u001b[0;32m    921\u001b[0m \u001b[39mif\u001b[39;00m method \u001b[39mis\u001b[39;00m \u001b[39mnot\u001b[39;00m \u001b[39mNone\u001b[39;00m:\n\u001b[1;32m--> 922\u001b[0m     method()\n\u001b[0;32m    923\u001b[0m     \u001b[39mreturn\u001b[39;00m \u001b[39mTrue\u001b[39;00m\n",
      "File \u001b[1;32md:\\Programme\\Lib\\site-packages\\plotly\\basedatatypes.py:832\u001b[0m, in \u001b[0;36mBaseFigure._ipython_display_\u001b[1;34m(self)\u001b[0m\n\u001b[0;32m    829\u001b[0m \u001b[39mimport\u001b[39;00m \u001b[39mplotly\u001b[39;00m\u001b[39m.\u001b[39;00m\u001b[39mio\u001b[39;00m \u001b[39mas\u001b[39;00m \u001b[39mpio\u001b[39;00m\n\u001b[0;32m    831\u001b[0m \u001b[39mif\u001b[39;00m pio\u001b[39m.\u001b[39mrenderers\u001b[39m.\u001b[39mrender_on_display \u001b[39mand\u001b[39;00m pio\u001b[39m.\u001b[39mrenderers\u001b[39m.\u001b[39mdefault:\n\u001b[1;32m--> 832\u001b[0m     pio\u001b[39m.\u001b[39;49mshow(\u001b[39mself\u001b[39;49m)\n\u001b[0;32m    833\u001b[0m \u001b[39melse\u001b[39;00m:\n\u001b[0;32m    834\u001b[0m     \u001b[39mprint\u001b[39m(\u001b[39mrepr\u001b[39m(\u001b[39mself\u001b[39m))\n",
      "File \u001b[1;32md:\\Programme\\Lib\\site-packages\\plotly\\io\\_renderers.py:394\u001b[0m, in \u001b[0;36mshow\u001b[1;34m(fig, renderer, validate, **kwargs)\u001b[0m\n\u001b[0;32m    389\u001b[0m         \u001b[39mraise\u001b[39;00m \u001b[39mValueError\u001b[39;00m(\n\u001b[0;32m    390\u001b[0m             \u001b[39m\"\u001b[39m\u001b[39mMime type rendering requires ipython but it is not installed\u001b[39m\u001b[39m\"\u001b[39m\n\u001b[0;32m    391\u001b[0m         )\n\u001b[0;32m    393\u001b[0m     \u001b[39mif\u001b[39;00m \u001b[39mnot\u001b[39;00m nbformat \u001b[39mor\u001b[39;00m Version(nbformat\u001b[39m.\u001b[39m__version__) \u001b[39m<\u001b[39m Version(\u001b[39m\"\u001b[39m\u001b[39m4.2.0\u001b[39m\u001b[39m\"\u001b[39m):\n\u001b[1;32m--> 394\u001b[0m         \u001b[39mraise\u001b[39;00m \u001b[39mValueError\u001b[39;00m(\n\u001b[0;32m    395\u001b[0m             \u001b[39m\"\u001b[39m\u001b[39mMime type rendering requires nbformat>=4.2.0 but it is not installed\u001b[39m\u001b[39m\"\u001b[39m\n\u001b[0;32m    396\u001b[0m         )\n\u001b[0;32m    398\u001b[0m     ipython_display\u001b[39m.\u001b[39mdisplay(bundle, raw\u001b[39m=\u001b[39m\u001b[39mTrue\u001b[39;00m)\n\u001b[0;32m    400\u001b[0m \u001b[39m# external renderers\u001b[39;00m\n",
      "\u001b[1;31mValueError\u001b[0m: Mime type rendering requires nbformat>=4.2.0 but it is not installed"
     ]
    },
    {
     "data": {
      "application/vnd.plotly.v1+json": {
       "config": {
        "plotlyServerURL": "https://plot.ly"
       },
       "data": [
        {
         "colorscale": [
          [
           0,
           "rgb(165,0,38)"
          ],
          [
           0.1,
           "rgb(215,48,39)"
          ],
          [
           0.2,
           "rgb(244,109,67)"
          ],
          [
           0.3,
           "rgb(253,174,97)"
          ],
          [
           0.4,
           "rgb(254,224,144)"
          ],
          [
           0.5,
           "rgb(255,255,191)"
          ],
          [
           0.6,
           "rgb(224,243,248)"
          ],
          [
           0.7,
           "rgb(171,217,233)"
          ],
          [
           0.8,
           "rgb(116,173,209)"
          ],
          [
           0.9,
           "rgb(69,117,180)"
          ],
          [
           1,
           "rgb(49,54,149)"
          ]
         ],
         "type": "heatmap",
         "x": [
          "yardline_100",
          "yards_gained",
          "ydstogo",
          "no_huddle"
         ],
         "y": [
          "yardline_100",
          "yards_gained",
          "ydstogo",
          "no_huddle"
         ],
         "z": [
          [
           1,
           0.09716763223040258,
           0.2339930234153809,
           -0.03350857504979258
          ],
          [
           0.09716763223040258,
           1,
           0.06253048264952432,
           0.01273967652046016
          ],
          [
           0.2339930234153809,
           0.06253048264952432,
           1,
           -0.05168498712412789
          ],
          [
           -0.03350857504979258,
           0.01273967652046016,
           -0.05168498712412789,
           1
          ]
         ]
        }
       ],
       "layout": {
        "autosize": false,
        "height": 800,
        "showlegend": false,
        "template": {
         "data": {
          "bar": [
           {
            "error_x": {
             "color": "#2a3f5f"
            },
            "error_y": {
             "color": "#2a3f5f"
            },
            "marker": {
             "line": {
              "color": "#E5ECF6",
              "width": 0.5
             },
             "pattern": {
              "fillmode": "overlay",
              "size": 10,
              "solidity": 0.2
             }
            },
            "type": "bar"
           }
          ],
          "barpolar": [
           {
            "marker": {
             "line": {
              "color": "#E5ECF6",
              "width": 0.5
             },
             "pattern": {
              "fillmode": "overlay",
              "size": 10,
              "solidity": 0.2
             }
            },
            "type": "barpolar"
           }
          ],
          "carpet": [
           {
            "aaxis": {
             "endlinecolor": "#2a3f5f",
             "gridcolor": "white",
             "linecolor": "white",
             "minorgridcolor": "white",
             "startlinecolor": "#2a3f5f"
            },
            "baxis": {
             "endlinecolor": "#2a3f5f",
             "gridcolor": "white",
             "linecolor": "white",
             "minorgridcolor": "white",
             "startlinecolor": "#2a3f5f"
            },
            "type": "carpet"
           }
          ],
          "choropleth": [
           {
            "colorbar": {
             "outlinewidth": 0,
             "ticks": ""
            },
            "type": "choropleth"
           }
          ],
          "contour": [
           {
            "colorbar": {
             "outlinewidth": 0,
             "ticks": ""
            },
            "colorscale": [
             [
              0,
              "#0d0887"
             ],
             [
              0.1111111111111111,
              "#46039f"
             ],
             [
              0.2222222222222222,
              "#7201a8"
             ],
             [
              0.3333333333333333,
              "#9c179e"
             ],
             [
              0.4444444444444444,
              "#bd3786"
             ],
             [
              0.5555555555555556,
              "#d8576b"
             ],
             [
              0.6666666666666666,
              "#ed7953"
             ],
             [
              0.7777777777777778,
              "#fb9f3a"
             ],
             [
              0.8888888888888888,
              "#fdca26"
             ],
             [
              1,
              "#f0f921"
             ]
            ],
            "type": "contour"
           }
          ],
          "contourcarpet": [
           {
            "colorbar": {
             "outlinewidth": 0,
             "ticks": ""
            },
            "type": "contourcarpet"
           }
          ],
          "heatmap": [
           {
            "colorbar": {
             "outlinewidth": 0,
             "ticks": ""
            },
            "colorscale": [
             [
              0,
              "#0d0887"
             ],
             [
              0.1111111111111111,
              "#46039f"
             ],
             [
              0.2222222222222222,
              "#7201a8"
             ],
             [
              0.3333333333333333,
              "#9c179e"
             ],
             [
              0.4444444444444444,
              "#bd3786"
             ],
             [
              0.5555555555555556,
              "#d8576b"
             ],
             [
              0.6666666666666666,
              "#ed7953"
             ],
             [
              0.7777777777777778,
              "#fb9f3a"
             ],
             [
              0.8888888888888888,
              "#fdca26"
             ],
             [
              1,
              "#f0f921"
             ]
            ],
            "type": "heatmap"
           }
          ],
          "heatmapgl": [
           {
            "colorbar": {
             "outlinewidth": 0,
             "ticks": ""
            },
            "colorscale": [
             [
              0,
              "#0d0887"
             ],
             [
              0.1111111111111111,
              "#46039f"
             ],
             [
              0.2222222222222222,
              "#7201a8"
             ],
             [
              0.3333333333333333,
              "#9c179e"
             ],
             [
              0.4444444444444444,
              "#bd3786"
             ],
             [
              0.5555555555555556,
              "#d8576b"
             ],
             [
              0.6666666666666666,
              "#ed7953"
             ],
             [
              0.7777777777777778,
              "#fb9f3a"
             ],
             [
              0.8888888888888888,
              "#fdca26"
             ],
             [
              1,
              "#f0f921"
             ]
            ],
            "type": "heatmapgl"
           }
          ],
          "histogram": [
           {
            "marker": {
             "pattern": {
              "fillmode": "overlay",
              "size": 10,
              "solidity": 0.2
             }
            },
            "type": "histogram"
           }
          ],
          "histogram2d": [
           {
            "colorbar": {
             "outlinewidth": 0,
             "ticks": ""
            },
            "colorscale": [
             [
              0,
              "#0d0887"
             ],
             [
              0.1111111111111111,
              "#46039f"
             ],
             [
              0.2222222222222222,
              "#7201a8"
             ],
             [
              0.3333333333333333,
              "#9c179e"
             ],
             [
              0.4444444444444444,
              "#bd3786"
             ],
             [
              0.5555555555555556,
              "#d8576b"
             ],
             [
              0.6666666666666666,
              "#ed7953"
             ],
             [
              0.7777777777777778,
              "#fb9f3a"
             ],
             [
              0.8888888888888888,
              "#fdca26"
             ],
             [
              1,
              "#f0f921"
             ]
            ],
            "type": "histogram2d"
           }
          ],
          "histogram2dcontour": [
           {
            "colorbar": {
             "outlinewidth": 0,
             "ticks": ""
            },
            "colorscale": [
             [
              0,
              "#0d0887"
             ],
             [
              0.1111111111111111,
              "#46039f"
             ],
             [
              0.2222222222222222,
              "#7201a8"
             ],
             [
              0.3333333333333333,
              "#9c179e"
             ],
             [
              0.4444444444444444,
              "#bd3786"
             ],
             [
              0.5555555555555556,
              "#d8576b"
             ],
             [
              0.6666666666666666,
              "#ed7953"
             ],
             [
              0.7777777777777778,
              "#fb9f3a"
             ],
             [
              0.8888888888888888,
              "#fdca26"
             ],
             [
              1,
              "#f0f921"
             ]
            ],
            "type": "histogram2dcontour"
           }
          ],
          "mesh3d": [
           {
            "colorbar": {
             "outlinewidth": 0,
             "ticks": ""
            },
            "type": "mesh3d"
           }
          ],
          "parcoords": [
           {
            "line": {
             "colorbar": {
              "outlinewidth": 0,
              "ticks": ""
             }
            },
            "type": "parcoords"
           }
          ],
          "pie": [
           {
            "automargin": true,
            "type": "pie"
           }
          ],
          "scatter": [
           {
            "fillpattern": {
             "fillmode": "overlay",
             "size": 10,
             "solidity": 0.2
            },
            "type": "scatter"
           }
          ],
          "scatter3d": [
           {
            "line": {
             "colorbar": {
              "outlinewidth": 0,
              "ticks": ""
             }
            },
            "marker": {
             "colorbar": {
              "outlinewidth": 0,
              "ticks": ""
             }
            },
            "type": "scatter3d"
           }
          ],
          "scattercarpet": [
           {
            "marker": {
             "colorbar": {
              "outlinewidth": 0,
              "ticks": ""
             }
            },
            "type": "scattercarpet"
           }
          ],
          "scattergeo": [
           {
            "marker": {
             "colorbar": {
              "outlinewidth": 0,
              "ticks": ""
             }
            },
            "type": "scattergeo"
           }
          ],
          "scattergl": [
           {
            "marker": {
             "colorbar": {
              "outlinewidth": 0,
              "ticks": ""
             }
            },
            "type": "scattergl"
           }
          ],
          "scattermapbox": [
           {
            "marker": {
             "colorbar": {
              "outlinewidth": 0,
              "ticks": ""
             }
            },
            "type": "scattermapbox"
           }
          ],
          "scatterpolar": [
           {
            "marker": {
             "colorbar": {
              "outlinewidth": 0,
              "ticks": ""
             }
            },
            "type": "scatterpolar"
           }
          ],
          "scatterpolargl": [
           {
            "marker": {
             "colorbar": {
              "outlinewidth": 0,
              "ticks": ""
             }
            },
            "type": "scatterpolargl"
           }
          ],
          "scatterternary": [
           {
            "marker": {
             "colorbar": {
              "outlinewidth": 0,
              "ticks": ""
             }
            },
            "type": "scatterternary"
           }
          ],
          "surface": [
           {
            "colorbar": {
             "outlinewidth": 0,
             "ticks": ""
            },
            "colorscale": [
             [
              0,
              "#0d0887"
             ],
             [
              0.1111111111111111,
              "#46039f"
             ],
             [
              0.2222222222222222,
              "#7201a8"
             ],
             [
              0.3333333333333333,
              "#9c179e"
             ],
             [
              0.4444444444444444,
              "#bd3786"
             ],
             [
              0.5555555555555556,
              "#d8576b"
             ],
             [
              0.6666666666666666,
              "#ed7953"
             ],
             [
              0.7777777777777778,
              "#fb9f3a"
             ],
             [
              0.8888888888888888,
              "#fdca26"
             ],
             [
              1,
              "#f0f921"
             ]
            ],
            "type": "surface"
           }
          ],
          "table": [
           {
            "cells": {
             "fill": {
              "color": "#EBF0F8"
             },
             "line": {
              "color": "white"
             }
            },
            "header": {
             "fill": {
              "color": "#C8D4E3"
             },
             "line": {
              "color": "white"
             }
            },
            "type": "table"
           }
          ]
         },
         "layout": {
          "annotationdefaults": {
           "arrowcolor": "#2a3f5f",
           "arrowhead": 0,
           "arrowwidth": 1
          },
          "autotypenumbers": "strict",
          "coloraxis": {
           "colorbar": {
            "outlinewidth": 0,
            "ticks": ""
           }
          },
          "colorscale": {
           "diverging": [
            [
             0,
             "#8e0152"
            ],
            [
             0.1,
             "#c51b7d"
            ],
            [
             0.2,
             "#de77ae"
            ],
            [
             0.3,
             "#f1b6da"
            ],
            [
             0.4,
             "#fde0ef"
            ],
            [
             0.5,
             "#f7f7f7"
            ],
            [
             0.6,
             "#e6f5d0"
            ],
            [
             0.7,
             "#b8e186"
            ],
            [
             0.8,
             "#7fbc41"
            ],
            [
             0.9,
             "#4d9221"
            ],
            [
             1,
             "#276419"
            ]
           ],
           "sequential": [
            [
             0,
             "#0d0887"
            ],
            [
             0.1111111111111111,
             "#46039f"
            ],
            [
             0.2222222222222222,
             "#7201a8"
            ],
            [
             0.3333333333333333,
             "#9c179e"
            ],
            [
             0.4444444444444444,
             "#bd3786"
            ],
            [
             0.5555555555555556,
             "#d8576b"
            ],
            [
             0.6666666666666666,
             "#ed7953"
            ],
            [
             0.7777777777777778,
             "#fb9f3a"
            ],
            [
             0.8888888888888888,
             "#fdca26"
            ],
            [
             1,
             "#f0f921"
            ]
           ],
           "sequentialminus": [
            [
             0,
             "#0d0887"
            ],
            [
             0.1111111111111111,
             "#46039f"
            ],
            [
             0.2222222222222222,
             "#7201a8"
            ],
            [
             0.3333333333333333,
             "#9c179e"
            ],
            [
             0.4444444444444444,
             "#bd3786"
            ],
            [
             0.5555555555555556,
             "#d8576b"
            ],
            [
             0.6666666666666666,
             "#ed7953"
            ],
            [
             0.7777777777777778,
             "#fb9f3a"
            ],
            [
             0.8888888888888888,
             "#fdca26"
            ],
            [
             1,
             "#f0f921"
            ]
           ]
          },
          "colorway": [
           "#636efa",
           "#EF553B",
           "#00cc96",
           "#ab63fa",
           "#FFA15A",
           "#19d3f3",
           "#FF6692",
           "#B6E880",
           "#FF97FF",
           "#FECB52"
          ],
          "font": {
           "color": "#2a3f5f"
          },
          "geo": {
           "bgcolor": "white",
           "lakecolor": "white",
           "landcolor": "#E5ECF6",
           "showlakes": true,
           "showland": true,
           "subunitcolor": "white"
          },
          "hoverlabel": {
           "align": "left"
          },
          "hovermode": "closest",
          "mapbox": {
           "style": "light"
          },
          "paper_bgcolor": "white",
          "plot_bgcolor": "#E5ECF6",
          "polar": {
           "angularaxis": {
            "gridcolor": "white",
            "linecolor": "white",
            "ticks": ""
           },
           "bgcolor": "#E5ECF6",
           "radialaxis": {
            "gridcolor": "white",
            "linecolor": "white",
            "ticks": ""
           }
          },
          "scene": {
           "xaxis": {
            "backgroundcolor": "#E5ECF6",
            "gridcolor": "white",
            "gridwidth": 2,
            "linecolor": "white",
            "showbackground": true,
            "ticks": "",
            "zerolinecolor": "white"
           },
           "yaxis": {
            "backgroundcolor": "#E5ECF6",
            "gridcolor": "white",
            "gridwidth": 2,
            "linecolor": "white",
            "showbackground": true,
            "ticks": "",
            "zerolinecolor": "white"
           },
           "zaxis": {
            "backgroundcolor": "#E5ECF6",
            "gridcolor": "white",
            "gridwidth": 2,
            "linecolor": "white",
            "showbackground": true,
            "ticks": "",
            "zerolinecolor": "white"
           }
          },
          "shapedefaults": {
           "line": {
            "color": "#2a3f5f"
           }
          },
          "ternary": {
           "aaxis": {
            "gridcolor": "white",
            "linecolor": "white",
            "ticks": ""
           },
           "baxis": {
            "gridcolor": "white",
            "linecolor": "white",
            "ticks": ""
           },
           "bgcolor": "#E5ECF6",
           "caxis": {
            "gridcolor": "white",
            "linecolor": "white",
            "ticks": ""
           }
          },
          "title": {
           "x": 0.05
          },
          "xaxis": {
           "automargin": true,
           "gridcolor": "white",
           "linecolor": "white",
           "ticks": "",
           "title": {
            "standoff": 15
           },
           "zerolinecolor": "white",
           "zerolinewidth": 2
          },
          "yaxis": {
           "automargin": true,
           "gridcolor": "white",
           "linecolor": "white",
           "ticks": "",
           "title": {
            "standoff": 15
           },
           "zerolinecolor": "white",
           "zerolinewidth": 2
          }
         }
        },
        "title": {
         "text": "Correlation matrix"
        },
        "width": 800,
        "xaxis": {
         "showticklabels": false
        },
        "yaxis": {
         "autorange": "reversed",
         "showticklabels": false
        }
       }
      },
      "text/html": [
       "<div>                        <script type=\"text/javascript\">window.PlotlyConfig = {MathJaxConfig: 'local'};</script>\n",
       "        <script charset=\"utf-8\" src=\"https://cdn.plot.ly/plotly-2.27.0.min.js\"></script>                <div id=\"6d31984e-5896-4cb3-98d6-72dd08810c2c\" class=\"plotly-graph-div\" style=\"height:800px; width:800px;\"></div>            <script type=\"text/javascript\">                                    window.PLOTLYENV=window.PLOTLYENV || {};                                    if (document.getElementById(\"6d31984e-5896-4cb3-98d6-72dd08810c2c\")) {                    Plotly.newPlot(                        \"6d31984e-5896-4cb3-98d6-72dd08810c2c\",                        [{\"colorscale\":[[0.0,\"rgb(165,0,38)\"],[0.1,\"rgb(215,48,39)\"],[0.2,\"rgb(244,109,67)\"],[0.3,\"rgb(253,174,97)\"],[0.4,\"rgb(254,224,144)\"],[0.5,\"rgb(255,255,191)\"],[0.6,\"rgb(224,243,248)\"],[0.7,\"rgb(171,217,233)\"],[0.8,\"rgb(116,173,209)\"],[0.9,\"rgb(69,117,180)\"],[1.0,\"rgb(49,54,149)\"]],\"x\":[\"yardline_100\",\"yards_gained\",\"ydstogo\",\"no_huddle\"],\"y\":[\"yardline_100\",\"yards_gained\",\"ydstogo\",\"no_huddle\"],\"z\":[[1.0,0.09716763223040258,0.2339930234153809,-0.03350857504979258],[0.09716763223040258,1.0,0.06253048264952432,0.01273967652046016],[0.2339930234153809,0.06253048264952432,1.0,-0.05168498712412789],[-0.03350857504979258,0.01273967652046016,-0.05168498712412789,1.0]],\"type\":\"heatmap\"}],                        {\"template\":{\"data\":{\"histogram2dcontour\":[{\"type\":\"histogram2dcontour\",\"colorbar\":{\"outlinewidth\":0,\"ticks\":\"\"},\"colorscale\":[[0.0,\"#0d0887\"],[0.1111111111111111,\"#46039f\"],[0.2222222222222222,\"#7201a8\"],[0.3333333333333333,\"#9c179e\"],[0.4444444444444444,\"#bd3786\"],[0.5555555555555556,\"#d8576b\"],[0.6666666666666666,\"#ed7953\"],[0.7777777777777778,\"#fb9f3a\"],[0.8888888888888888,\"#fdca26\"],[1.0,\"#f0f921\"]]}],\"choropleth\":[{\"type\":\"choropleth\",\"colorbar\":{\"outlinewidth\":0,\"ticks\":\"\"}}],\"histogram2d\":[{\"type\":\"histogram2d\",\"colorbar\":{\"outlinewidth\":0,\"ticks\":\"\"},\"colorscale\":[[0.0,\"#0d0887\"],[0.1111111111111111,\"#46039f\"],[0.2222222222222222,\"#7201a8\"],[0.3333333333333333,\"#9c179e\"],[0.4444444444444444,\"#bd3786\"],[0.5555555555555556,\"#d8576b\"],[0.6666666666666666,\"#ed7953\"],[0.7777777777777778,\"#fb9f3a\"],[0.8888888888888888,\"#fdca26\"],[1.0,\"#f0f921\"]]}],\"heatmap\":[{\"type\":\"heatmap\",\"colorbar\":{\"outlinewidth\":0,\"ticks\":\"\"},\"colorscale\":[[0.0,\"#0d0887\"],[0.1111111111111111,\"#46039f\"],[0.2222222222222222,\"#7201a8\"],[0.3333333333333333,\"#9c179e\"],[0.4444444444444444,\"#bd3786\"],[0.5555555555555556,\"#d8576b\"],[0.6666666666666666,\"#ed7953\"],[0.7777777777777778,\"#fb9f3a\"],[0.8888888888888888,\"#fdca26\"],[1.0,\"#f0f921\"]]}],\"heatmapgl\":[{\"type\":\"heatmapgl\",\"colorbar\":{\"outlinewidth\":0,\"ticks\":\"\"},\"colorscale\":[[0.0,\"#0d0887\"],[0.1111111111111111,\"#46039f\"],[0.2222222222222222,\"#7201a8\"],[0.3333333333333333,\"#9c179e\"],[0.4444444444444444,\"#bd3786\"],[0.5555555555555556,\"#d8576b\"],[0.6666666666666666,\"#ed7953\"],[0.7777777777777778,\"#fb9f3a\"],[0.8888888888888888,\"#fdca26\"],[1.0,\"#f0f921\"]]}],\"contourcarpet\":[{\"type\":\"contourcarpet\",\"colorbar\":{\"outlinewidth\":0,\"ticks\":\"\"}}],\"contour\":[{\"type\":\"contour\",\"colorbar\":{\"outlinewidth\":0,\"ticks\":\"\"},\"colorscale\":[[0.0,\"#0d0887\"],[0.1111111111111111,\"#46039f\"],[0.2222222222222222,\"#7201a8\"],[0.3333333333333333,\"#9c179e\"],[0.4444444444444444,\"#bd3786\"],[0.5555555555555556,\"#d8576b\"],[0.6666666666666666,\"#ed7953\"],[0.7777777777777778,\"#fb9f3a\"],[0.8888888888888888,\"#fdca26\"],[1.0,\"#f0f921\"]]}],\"surface\":[{\"type\":\"surface\",\"colorbar\":{\"outlinewidth\":0,\"ticks\":\"\"},\"colorscale\":[[0.0,\"#0d0887\"],[0.1111111111111111,\"#46039f\"],[0.2222222222222222,\"#7201a8\"],[0.3333333333333333,\"#9c179e\"],[0.4444444444444444,\"#bd3786\"],[0.5555555555555556,\"#d8576b\"],[0.6666666666666666,\"#ed7953\"],[0.7777777777777778,\"#fb9f3a\"],[0.8888888888888888,\"#fdca26\"],[1.0,\"#f0f921\"]]}],\"mesh3d\":[{\"type\":\"mesh3d\",\"colorbar\":{\"outlinewidth\":0,\"ticks\":\"\"}}],\"scatter\":[{\"fillpattern\":{\"fillmode\":\"overlay\",\"size\":10,\"solidity\":0.2},\"type\":\"scatter\"}],\"parcoords\":[{\"type\":\"parcoords\",\"line\":{\"colorbar\":{\"outlinewidth\":0,\"ticks\":\"\"}}}],\"scatterpolargl\":[{\"type\":\"scatterpolargl\",\"marker\":{\"colorbar\":{\"outlinewidth\":0,\"ticks\":\"\"}}}],\"bar\":[{\"error_x\":{\"color\":\"#2a3f5f\"},\"error_y\":{\"color\":\"#2a3f5f\"},\"marker\":{\"line\":{\"color\":\"#E5ECF6\",\"width\":0.5},\"pattern\":{\"fillmode\":\"overlay\",\"size\":10,\"solidity\":0.2}},\"type\":\"bar\"}],\"scattergeo\":[{\"type\":\"scattergeo\",\"marker\":{\"colorbar\":{\"outlinewidth\":0,\"ticks\":\"\"}}}],\"scatterpolar\":[{\"type\":\"scatterpolar\",\"marker\":{\"colorbar\":{\"outlinewidth\":0,\"ticks\":\"\"}}}],\"histogram\":[{\"marker\":{\"pattern\":{\"fillmode\":\"overlay\",\"size\":10,\"solidity\":0.2}},\"type\":\"histogram\"}],\"scattergl\":[{\"type\":\"scattergl\",\"marker\":{\"colorbar\":{\"outlinewidth\":0,\"ticks\":\"\"}}}],\"scatter3d\":[{\"type\":\"scatter3d\",\"line\":{\"colorbar\":{\"outlinewidth\":0,\"ticks\":\"\"}},\"marker\":{\"colorbar\":{\"outlinewidth\":0,\"ticks\":\"\"}}}],\"scattermapbox\":[{\"type\":\"scattermapbox\",\"marker\":{\"colorbar\":{\"outlinewidth\":0,\"ticks\":\"\"}}}],\"scatterternary\":[{\"type\":\"scatterternary\",\"marker\":{\"colorbar\":{\"outlinewidth\":0,\"ticks\":\"\"}}}],\"scattercarpet\":[{\"type\":\"scattercarpet\",\"marker\":{\"colorbar\":{\"outlinewidth\":0,\"ticks\":\"\"}}}],\"carpet\":[{\"aaxis\":{\"endlinecolor\":\"#2a3f5f\",\"gridcolor\":\"white\",\"linecolor\":\"white\",\"minorgridcolor\":\"white\",\"startlinecolor\":\"#2a3f5f\"},\"baxis\":{\"endlinecolor\":\"#2a3f5f\",\"gridcolor\":\"white\",\"linecolor\":\"white\",\"minorgridcolor\":\"white\",\"startlinecolor\":\"#2a3f5f\"},\"type\":\"carpet\"}],\"table\":[{\"cells\":{\"fill\":{\"color\":\"#EBF0F8\"},\"line\":{\"color\":\"white\"}},\"header\":{\"fill\":{\"color\":\"#C8D4E3\"},\"line\":{\"color\":\"white\"}},\"type\":\"table\"}],\"barpolar\":[{\"marker\":{\"line\":{\"color\":\"#E5ECF6\",\"width\":0.5},\"pattern\":{\"fillmode\":\"overlay\",\"size\":10,\"solidity\":0.2}},\"type\":\"barpolar\"}],\"pie\":[{\"automargin\":true,\"type\":\"pie\"}]},\"layout\":{\"autotypenumbers\":\"strict\",\"colorway\":[\"#636efa\",\"#EF553B\",\"#00cc96\",\"#ab63fa\",\"#FFA15A\",\"#19d3f3\",\"#FF6692\",\"#B6E880\",\"#FF97FF\",\"#FECB52\"],\"font\":{\"color\":\"#2a3f5f\"},\"hovermode\":\"closest\",\"hoverlabel\":{\"align\":\"left\"},\"paper_bgcolor\":\"white\",\"plot_bgcolor\":\"#E5ECF6\",\"polar\":{\"bgcolor\":\"#E5ECF6\",\"angularaxis\":{\"gridcolor\":\"white\",\"linecolor\":\"white\",\"ticks\":\"\"},\"radialaxis\":{\"gridcolor\":\"white\",\"linecolor\":\"white\",\"ticks\":\"\"}},\"ternary\":{\"bgcolor\":\"#E5ECF6\",\"aaxis\":{\"gridcolor\":\"white\",\"linecolor\":\"white\",\"ticks\":\"\"},\"baxis\":{\"gridcolor\":\"white\",\"linecolor\":\"white\",\"ticks\":\"\"},\"caxis\":{\"gridcolor\":\"white\",\"linecolor\":\"white\",\"ticks\":\"\"}},\"coloraxis\":{\"colorbar\":{\"outlinewidth\":0,\"ticks\":\"\"}},\"colorscale\":{\"sequential\":[[0.0,\"#0d0887\"],[0.1111111111111111,\"#46039f\"],[0.2222222222222222,\"#7201a8\"],[0.3333333333333333,\"#9c179e\"],[0.4444444444444444,\"#bd3786\"],[0.5555555555555556,\"#d8576b\"],[0.6666666666666666,\"#ed7953\"],[0.7777777777777778,\"#fb9f3a\"],[0.8888888888888888,\"#fdca26\"],[1.0,\"#f0f921\"]],\"sequentialminus\":[[0.0,\"#0d0887\"],[0.1111111111111111,\"#46039f\"],[0.2222222222222222,\"#7201a8\"],[0.3333333333333333,\"#9c179e\"],[0.4444444444444444,\"#bd3786\"],[0.5555555555555556,\"#d8576b\"],[0.6666666666666666,\"#ed7953\"],[0.7777777777777778,\"#fb9f3a\"],[0.8888888888888888,\"#fdca26\"],[1.0,\"#f0f921\"]],\"diverging\":[[0,\"#8e0152\"],[0.1,\"#c51b7d\"],[0.2,\"#de77ae\"],[0.3,\"#f1b6da\"],[0.4,\"#fde0ef\"],[0.5,\"#f7f7f7\"],[0.6,\"#e6f5d0\"],[0.7,\"#b8e186\"],[0.8,\"#7fbc41\"],[0.9,\"#4d9221\"],[1,\"#276419\"]]},\"xaxis\":{\"gridcolor\":\"white\",\"linecolor\":\"white\",\"ticks\":\"\",\"title\":{\"standoff\":15},\"zerolinecolor\":\"white\",\"automargin\":true,\"zerolinewidth\":2},\"yaxis\":{\"gridcolor\":\"white\",\"linecolor\":\"white\",\"ticks\":\"\",\"title\":{\"standoff\":15},\"zerolinecolor\":\"white\",\"automargin\":true,\"zerolinewidth\":2},\"scene\":{\"xaxis\":{\"backgroundcolor\":\"#E5ECF6\",\"gridcolor\":\"white\",\"linecolor\":\"white\",\"showbackground\":true,\"ticks\":\"\",\"zerolinecolor\":\"white\",\"gridwidth\":2},\"yaxis\":{\"backgroundcolor\":\"#E5ECF6\",\"gridcolor\":\"white\",\"linecolor\":\"white\",\"showbackground\":true,\"ticks\":\"\",\"zerolinecolor\":\"white\",\"gridwidth\":2},\"zaxis\":{\"backgroundcolor\":\"#E5ECF6\",\"gridcolor\":\"white\",\"linecolor\":\"white\",\"showbackground\":true,\"ticks\":\"\",\"zerolinecolor\":\"white\",\"gridwidth\":2}},\"shapedefaults\":{\"line\":{\"color\":\"#2a3f5f\"}},\"annotationdefaults\":{\"arrowcolor\":\"#2a3f5f\",\"arrowhead\":0,\"arrowwidth\":1},\"geo\":{\"bgcolor\":\"white\",\"landcolor\":\"#E5ECF6\",\"subunitcolor\":\"white\",\"showland\":true,\"showlakes\":true,\"lakecolor\":\"white\"},\"title\":{\"x\":0.05},\"mapbox\":{\"style\":\"light\"}}},\"showlegend\":false,\"width\":800,\"height\":800,\"autosize\":false,\"title\":{\"text\":\"Correlation matrix\"},\"yaxis\":{\"showticklabels\":false,\"autorange\":\"reversed\"},\"xaxis\":{\"showticklabels\":false}},                        {\"responsive\": true}                    )                };                            </script>        </div>"
      ],
      "text/plain": [
       "Figure({\n",
       "    'data': [{'colorscale': [[0.0, 'rgb(165,0,38)'], [0.1, 'rgb(215,48,39)'],\n",
       "                             [0.2, 'rgb(244,109,67)'], [0.3, 'rgb(253,174,97)'],\n",
       "                             [0.4, 'rgb(254,224,144)'], [0.5, 'rgb(255,255,191)'],\n",
       "                             [0.6, 'rgb(224,243,248)'], [0.7, 'rgb(171,217,233)'],\n",
       "                             [0.8, 'rgb(116,173,209)'], [0.9, 'rgb(69,117,180)'],\n",
       "                             [1.0, 'rgb(49,54,149)']],\n",
       "              'type': 'heatmap',\n",
       "              'x': [yardline_100, yards_gained, ydstogo, no_huddle],\n",
       "              'y': [yardline_100, yards_gained, ydstogo, no_huddle],\n",
       "              'z': array([[ 1.        ,  0.09716763,  0.23399302, -0.03350858],\n",
       "                          [ 0.09716763,  1.        ,  0.06253048,  0.01273968],\n",
       "                          [ 0.23399302,  0.06253048,  1.        , -0.05168499],\n",
       "                          [-0.03350858,  0.01273968, -0.05168499,  1.        ]])}],\n",
       "    'layout': {'autosize': False,\n",
       "               'height': 800,\n",
       "               'showlegend': False,\n",
       "               'template': '...',\n",
       "               'title': {'text': 'Correlation matrix'},\n",
       "               'width': 800,\n",
       "               'xaxis': {'showticklabels': False},\n",
       "               'yaxis': {'autorange': 'reversed', 'showticklabels': False}}\n",
       "})"
      ]
     },
     "execution_count": 100,
     "metadata": {},
     "output_type": "execute_result"
    }
   ],
   "source": [
    "import plotly.graph_objects as go\n",
    "\n",
    "df = combined_df[[\"yardline_100\", \"yards_gained\", \"ydstogo\", \"no_huddle\"]]\n",
    "correlation_matrix = df.corr()\n",
    "fig = go.Figure(\n",
    "    data=go.Heatmap(\n",
    "        z=correlation_matrix,\n",
    "        x=list(df.columns),\n",
    "        y=list(df.columns),\n",
    "        colorscale=\"rdylbu\",\n",
    "    )\n",
    ")\n",
    "\n",
    "fig.update_layout(\n",
    "    showlegend=False, width=800, height=800, autosize=False, title=\"Correlation matrix\"\n",
    ")\n",
    "\n",
    "fig.update_yaxes(showticklabels=False, autorange=\"reversed\")\n",
    "fig.update_xaxes(showticklabels=False)\n",
    "# fig.show()"

   ]
  }
 ],
 "metadata": {
  "kernelspec": {
   "display_name": ".venv",
   "language": "python",
   "name": "python3"
  },
  "language_info": {
   "codemirror_mode": {
    "name": "ipython",
    "version": 3
   },
   "file_extension": ".py",
   "mimetype": "text/x-python",
   "name": "python",
   "nbconvert_exporter": "python",
   "pygments_lexer": "ipython3",
   "version": "3.11.5"
  },
  "orig_nbformat": 4
 },
 "nbformat": 4,
 "nbformat_minor": 2
}
